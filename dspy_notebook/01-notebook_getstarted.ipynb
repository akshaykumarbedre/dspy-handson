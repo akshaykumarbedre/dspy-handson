{
 "cells": [
  {
   "cell_type": "markdown",
   "id": "da865c0d",
   "metadata": {},
   "source": [
    "# DSPy Learning Guide: From Basics to Advanced Optimization 🚀\n",
    "\n",
    "Welcome to this comprehensive DSPy tutorial! This notebook demonstrates the power of DSPy for building sophisticated language model applications.\n",
    "\n",
    "## What is DSPy?\n",
    "DSPy is a framework for programming language models that enables:\n",
    "- 🎯 **Structured prompting** with signatures\n",
    "- 🔄 **Automatic optimization** of prompts\n",
    "- 🧩 **Modular composition** of LM operations\n",
    "- 🔍 **Integration** with retrieval systems\n",
    "\n",
    "## Table of Contents\n",
    "1. [Setup and Configuration](#setup)\n",
    "2. [Basic DSPy Operations](#basics)\n",
    "3. [Chain of Thought Reasoning](#cot)\n",
    "4. [Retrieval Augmented Generation (RAG)](#rag)\n",
    "5. [Classification Tasks](#classification)\n",
    "6. [Information Extraction](#extraction)\n",
    "7. [Agent-based Reasoning](#agents)\n",
    "8. [Advanced: Article Generation](#advanced)\n",
    "9. [Optimization with MIPROv2](#optimization)\n",
    "\n",
    "---\n",
    "\n",
    "## 🔧 Setup and Environment Configuration {#setup}"
   ]
  },
  {
   "cell_type": "code",
   "execution_count": 1,
   "id": "e1cfdc98",
   "metadata": {},
   "outputs": [
    {
     "name": "stdout",
     "output_type": "stream",
     "text": [
      "📦 Installing required packages...\n",
      "Requirement already satisfied: dspy in /workspaces/dspy-handson/venv/lib/python3.12/site-packages (2.6.27)\n",
      "Requirement already satisfied: dspy in /workspaces/dspy-handson/venv/lib/python3.12/site-packages (2.6.27)\n",
      "Requirement already satisfied: mlflow in /workspaces/dspy-handson/venv/lib/python3.12/site-packages (3.2.0)\n",
      "Requirement already satisfied: mlflow in /workspaces/dspy-handson/venv/lib/python3.12/site-packages (3.2.0)\n",
      "Requirement already satisfied: datasets in /workspaces/dspy-handson/venv/lib/python3.12/site-packages (4.0.0)\n",
      "Requirement already satisfied: datasets in /workspaces/dspy-handson/venv/lib/python3.12/site-packages (4.0.0)\n",
      "Requirement already satisfied: backoff>=2.2 in /workspaces/dspy-handson/venv/lib/python3.12/site-packages (from dspy) (2.2.1)\n",
      "Requirement already satisfied: joblib~=1.3 in /workspaces/dspy-handson/venv/lib/python3.12/site-packages (from dspy) (1.5.1)\n",
      "Requirement already satisfied: openai>=0.28.1 in /workspaces/dspy-handson/venv/lib/python3.12/site-packages (from dspy) (1.99.9)\n",
      "Requirement already satisfied: pandas>=2.1.1 in /workspaces/dspy-handson/venv/lib/python3.12/site-packages (from dspy) (2.3.1)\n",
      "Requirement already satisfied: regex>=2023.10.3 in /workspaces/dspy-handson/venv/lib/python3.12/site-packages (from dspy) (2025.7.34)\n",
      "Requirement already satisfied: ujson>=5.8.0 in /workspaces/dspy-handson/venv/lib/python3.12/site-packages (from dspy) (5.10.0)\n",
      "Requirement already satisfied: tqdm>=4.66.1 in /workspaces/dspy-handson/venv/lib/python3.12/site-packages (from dspy) (4.67.1)\n",
      "Requirement already satisfied: requests>=2.31.0 in /workspaces/dspy-handson/venv/lib/python3.12/site-packages (from dspy) (2.32.4)\n",
      "Requirement already satisfied: optuna>=3.4.0 in /workspaces/dspy-handson/venv/lib/python3.12/site-packages (from dspy) (4.4.0)\n",
      "Requirement already satisfied: pydantic>=2.0 in /workspaces/dspy-handson/venv/lib/python3.12/site-packages (from dspy) (2.11.7)\n",
      "Requirement already satisfied: magicattr>=0.1.6 in /workspaces/dspy-handson/venv/lib/python3.12/site-packages (from dspy) (0.1.6)\n",
      "Requirement already satisfied: litellm>=1.60.3 in /workspaces/dspy-handson/venv/lib/python3.12/site-packages (from dspy) (1.75.5.post1)\n",
      "Requirement already satisfied: diskcache>=5.6.0 in /workspaces/dspy-handson/venv/lib/python3.12/site-packages (from dspy) (5.6.3)\n",
      "Requirement already satisfied: json-repair>=0.30.0 in /workspaces/dspy-handson/venv/lib/python3.12/site-packages (from dspy) (0.49.0)\n",
      "Requirement already satisfied: tenacity>=8.2.3 in /workspaces/dspy-handson/venv/lib/python3.12/site-packages (from dspy) (9.1.2)\n",
      "Requirement already satisfied: anyio in /workspaces/dspy-handson/venv/lib/python3.12/site-packages (from dspy) (4.10.0)\n",
      "Requirement already satisfied: asyncer==0.0.8 in /workspaces/dspy-handson/venv/lib/python3.12/site-packages (from dspy) (0.0.8)\n",
      "Requirement already satisfied: cachetools>=5.5.0 in /workspaces/dspy-handson/venv/lib/python3.12/site-packages (from dspy) (5.5.2)\n",
      "Requirement already satisfied: cloudpickle>=3.0.0 in /workspaces/dspy-handson/venv/lib/python3.12/site-packages (from dspy) (3.1.1)\n",
      "Requirement already satisfied: backoff>=2.2 in /workspaces/dspy-handson/venv/lib/python3.12/site-packages (from dspy) (2.2.1)\n",
      "Requirement already satisfied: joblib~=1.3 in /workspaces/dspy-handson/venv/lib/python3.12/site-packages (from dspy) (1.5.1)\n",
      "Requirement already satisfied: openai>=0.28.1 in /workspaces/dspy-handson/venv/lib/python3.12/site-packages (from dspy) (1.99.9)\n",
      "Requirement already satisfied: pandas>=2.1.1 in /workspaces/dspy-handson/venv/lib/python3.12/site-packages (from dspy) (2.3.1)\n",
      "Requirement already satisfied: regex>=2023.10.3 in /workspaces/dspy-handson/venv/lib/python3.12/site-packages (from dspy) (2025.7.34)\n",
      "Requirement already satisfied: ujson>=5.8.0 in /workspaces/dspy-handson/venv/lib/python3.12/site-packages (from dspy) (5.10.0)\n",
      "Requirement already satisfied: tqdm>=4.66.1 in /workspaces/dspy-handson/venv/lib/python3.12/site-packages (from dspy) (4.67.1)\n",
      "Requirement already satisfied: requests>=2.31.0 in /workspaces/dspy-handson/venv/lib/python3.12/site-packages (from dspy) (2.32.4)\n",
      "Requirement already satisfied: optuna>=3.4.0 in /workspaces/dspy-handson/venv/lib/python3.12/site-packages (from dspy) (4.4.0)\n",
      "Requirement already satisfied: pydantic>=2.0 in /workspaces/dspy-handson/venv/lib/python3.12/site-packages (from dspy) (2.11.7)\n",
      "Requirement already satisfied: magicattr>=0.1.6 in /workspaces/dspy-handson/venv/lib/python3.12/site-packages (from dspy) (0.1.6)\n",
      "Requirement already satisfied: litellm>=1.60.3 in /workspaces/dspy-handson/venv/lib/python3.12/site-packages (from dspy) (1.75.5.post1)\n",
      "Requirement already satisfied: diskcache>=5.6.0 in /workspaces/dspy-handson/venv/lib/python3.12/site-packages (from dspy) (5.6.3)\n",
      "Requirement already satisfied: json-repair>=0.30.0 in /workspaces/dspy-handson/venv/lib/python3.12/site-packages (from dspy) (0.49.0)\n",
      "Requirement already satisfied: tenacity>=8.2.3 in /workspaces/dspy-handson/venv/lib/python3.12/site-packages (from dspy) (9.1.2)\n",
      "Requirement already satisfied: anyio in /workspaces/dspy-handson/venv/lib/python3.12/site-packages (from dspy) (4.10.0)\n",
      "Requirement already satisfied: asyncer==0.0.8 in /workspaces/dspy-handson/venv/lib/python3.12/site-packages (from dspy) (0.0.8)\n",
      "Requirement already satisfied: cachetools>=5.5.0 in /workspaces/dspy-handson/venv/lib/python3.12/site-packages (from dspy) (5.5.2)\n",
      "Requirement already satisfied: cloudpickle>=3.0.0 in /workspaces/dspy-handson/venv/lib/python3.12/site-packages (from dspy) (3.1.1)\n",
      "Requirement already satisfied: rich>=13.7.1 in /workspaces/dspy-handson/venv/lib/python3.12/site-packages (from dspy) (14.1.0)\n",
      "Requirement already satisfied: numpy>=1.26.0 in /workspaces/dspy-handson/venv/lib/python3.12/site-packages (from dspy) (2.3.2)\n",
      "Requirement already satisfied: mlflow-skinny==3.2.0 in /workspaces/dspy-handson/venv/lib/python3.12/site-packages (from mlflow) (3.2.0)\n",
      "Requirement already satisfied: mlflow-tracing==3.2.0 in /workspaces/dspy-handson/venv/lib/python3.12/site-packages (from mlflow) (3.2.0)\n",
      "Requirement already satisfied: Flask<4 in /workspaces/dspy-handson/venv/lib/python3.12/site-packages (from mlflow) (3.1.1)\n",
      "Requirement already satisfied: alembic!=1.10.0,<2 in /workspaces/dspy-handson/venv/lib/python3.12/site-packages (from mlflow) (1.16.4)\n",
      "Requirement already satisfied: docker<8,>=4.0.0 in /workspaces/dspy-handson/venv/lib/python3.12/site-packages (from mlflow) (7.1.0)\n",
      "Requirement already satisfied: graphene<4 in /workspaces/dspy-handson/venv/lib/python3.12/site-packages (from mlflow) (3.4.3)\n",
      "Requirement already satisfied: rich>=13.7.1 in /workspaces/dspy-handson/venv/lib/python3.12/site-packages (from dspy) (14.1.0)\n",
      "Requirement already satisfied: numpy>=1.26.0 in /workspaces/dspy-handson/venv/lib/python3.12/site-packages (from dspy) (2.3.2)\n",
      "Requirement already satisfied: mlflow-skinny==3.2.0 in /workspaces/dspy-handson/venv/lib/python3.12/site-packages (from mlflow) (3.2.0)\n",
      "Requirement already satisfied: mlflow-tracing==3.2.0 in /workspaces/dspy-handson/venv/lib/python3.12/site-packages (from mlflow) (3.2.0)\n",
      "Requirement already satisfied: Flask<4 in /workspaces/dspy-handson/venv/lib/python3.12/site-packages (from mlflow) (3.1.1)\n",
      "Requirement already satisfied: alembic!=1.10.0,<2 in /workspaces/dspy-handson/venv/lib/python3.12/site-packages (from mlflow) (1.16.4)\n",
      "Requirement already satisfied: docker<8,>=4.0.0 in /workspaces/dspy-handson/venv/lib/python3.12/site-packages (from mlflow) (7.1.0)\n",
      "Requirement already satisfied: graphene<4 in /workspaces/dspy-handson/venv/lib/python3.12/site-packages (from mlflow) (3.4.3)\n",
      "Requirement already satisfied: gunicorn<24 in /workspaces/dspy-handson/venv/lib/python3.12/site-packages (from mlflow) (23.0.0)\n",
      "Requirement already satisfied: matplotlib<4 in /workspaces/dspy-handson/venv/lib/python3.12/site-packages (from mlflow) (3.10.5)\n",
      "Requirement already satisfied: pyarrow<22,>=4.0.0 in /workspaces/dspy-handson/venv/lib/python3.12/site-packages (from mlflow) (21.0.0)\n",
      "Requirement already satisfied: scikit-learn<2 in /workspaces/dspy-handson/venv/lib/python3.12/site-packages (from mlflow) (1.7.1)\n",
      "Requirement already satisfied: scipy<2 in /workspaces/dspy-handson/venv/lib/python3.12/site-packages (from mlflow) (1.16.1)\n",
      "Requirement already satisfied: sqlalchemy<3,>=1.4.0 in /workspaces/dspy-handson/venv/lib/python3.12/site-packages (from mlflow) (2.0.43)\n",
      "Requirement already satisfied: gunicorn<24 in /workspaces/dspy-handson/venv/lib/python3.12/site-packages (from mlflow) (23.0.0)\n",
      "Requirement already satisfied: matplotlib<4 in /workspaces/dspy-handson/venv/lib/python3.12/site-packages (from mlflow) (3.10.5)\n",
      "Requirement already satisfied: pyarrow<22,>=4.0.0 in /workspaces/dspy-handson/venv/lib/python3.12/site-packages (from mlflow) (21.0.0)\n",
      "Requirement already satisfied: scikit-learn<2 in /workspaces/dspy-handson/venv/lib/python3.12/site-packages (from mlflow) (1.7.1)\n",
      "Requirement already satisfied: scipy<2 in /workspaces/dspy-handson/venv/lib/python3.12/site-packages (from mlflow) (1.16.1)\n",
      "Requirement already satisfied: sqlalchemy<3,>=1.4.0 in /workspaces/dspy-handson/venv/lib/python3.12/site-packages (from mlflow) (2.0.43)\n",
      "Requirement already satisfied: click<9,>=7.0 in /workspaces/dspy-handson/venv/lib/python3.12/site-packages (from mlflow-skinny==3.2.0->mlflow) (8.2.1)\n",
      "Requirement already satisfied: databricks-sdk<1,>=0.20.0 in /workspaces/dspy-handson/venv/lib/python3.12/site-packages (from mlflow-skinny==3.2.0->mlflow) (0.62.0)\n",
      "Requirement already satisfied: fastapi<1 in /workspaces/dspy-handson/venv/lib/python3.12/site-packages (from mlflow-skinny==3.2.0->mlflow) (0.116.1)\n",
      "Requirement already satisfied: gitpython<4,>=3.1.9 in /workspaces/dspy-handson/venv/lib/python3.12/site-packages (from mlflow-skinny==3.2.0->mlflow) (3.1.45)\n",
      "Requirement already satisfied: importlib_metadata!=4.7.0,<9,>=3.7.0 in /workspaces/dspy-handson/venv/lib/python3.12/site-packages (from mlflow-skinny==3.2.0->mlflow) (8.7.0)\n",
      "Requirement already satisfied: opentelemetry-api<3,>=1.9.0 in /workspaces/dspy-handson/venv/lib/python3.12/site-packages (from mlflow-skinny==3.2.0->mlflow) (1.36.0)\n",
      "Requirement already satisfied: opentelemetry-sdk<3,>=1.9.0 in /workspaces/dspy-handson/venv/lib/python3.12/site-packages (from mlflow-skinny==3.2.0->mlflow) (1.36.0)\n",
      "Requirement already satisfied: packaging<26 in /workspaces/dspy-handson/venv/lib/python3.12/site-packages (from mlflow-skinny==3.2.0->mlflow) (25.0)\n",
      "Requirement already satisfied: protobuf<7,>=3.12.0 in /workspaces/dspy-handson/venv/lib/python3.12/site-packages (from mlflow-skinny==3.2.0->mlflow) (6.31.1)\n",
      "Requirement already satisfied: pyyaml<7,>=5.1 in /workspaces/dspy-handson/venv/lib/python3.12/site-packages (from mlflow-skinny==3.2.0->mlflow) (6.0.2)\n",
      "Requirement already satisfied: sqlparse<1,>=0.4.0 in /workspaces/dspy-handson/venv/lib/python3.12/site-packages (from mlflow-skinny==3.2.0->mlflow) (0.5.3)\n",
      "Requirement already satisfied: typing-extensions<5,>=4.0.0 in /workspaces/dspy-handson/venv/lib/python3.12/site-packages (from mlflow-skinny==3.2.0->mlflow) (4.14.1)\n",
      "Requirement already satisfied: uvicorn<1 in /workspaces/dspy-handson/venv/lib/python3.12/site-packages (from mlflow-skinny==3.2.0->mlflow) (0.35.0)\n",
      "Requirement already satisfied: click<9,>=7.0 in /workspaces/dspy-handson/venv/lib/python3.12/site-packages (from mlflow-skinny==3.2.0->mlflow) (8.2.1)\n",
      "Requirement already satisfied: databricks-sdk<1,>=0.20.0 in /workspaces/dspy-handson/venv/lib/python3.12/site-packages (from mlflow-skinny==3.2.0->mlflow) (0.62.0)\n",
      "Requirement already satisfied: fastapi<1 in /workspaces/dspy-handson/venv/lib/python3.12/site-packages (from mlflow-skinny==3.2.0->mlflow) (0.116.1)\n",
      "Requirement already satisfied: gitpython<4,>=3.1.9 in /workspaces/dspy-handson/venv/lib/python3.12/site-packages (from mlflow-skinny==3.2.0->mlflow) (3.1.45)\n",
      "Requirement already satisfied: importlib_metadata!=4.7.0,<9,>=3.7.0 in /workspaces/dspy-handson/venv/lib/python3.12/site-packages (from mlflow-skinny==3.2.0->mlflow) (8.7.0)\n",
      "Requirement already satisfied: opentelemetry-api<3,>=1.9.0 in /workspaces/dspy-handson/venv/lib/python3.12/site-packages (from mlflow-skinny==3.2.0->mlflow) (1.36.0)\n",
      "Requirement already satisfied: opentelemetry-sdk<3,>=1.9.0 in /workspaces/dspy-handson/venv/lib/python3.12/site-packages (from mlflow-skinny==3.2.0->mlflow) (1.36.0)\n",
      "Requirement already satisfied: packaging<26 in /workspaces/dspy-handson/venv/lib/python3.12/site-packages (from mlflow-skinny==3.2.0->mlflow) (25.0)\n",
      "Requirement already satisfied: protobuf<7,>=3.12.0 in /workspaces/dspy-handson/venv/lib/python3.12/site-packages (from mlflow-skinny==3.2.0->mlflow) (6.31.1)\n",
      "Requirement already satisfied: pyyaml<7,>=5.1 in /workspaces/dspy-handson/venv/lib/python3.12/site-packages (from mlflow-skinny==3.2.0->mlflow) (6.0.2)\n",
      "Requirement already satisfied: sqlparse<1,>=0.4.0 in /workspaces/dspy-handson/venv/lib/python3.12/site-packages (from mlflow-skinny==3.2.0->mlflow) (0.5.3)\n",
      "Requirement already satisfied: typing-extensions<5,>=4.0.0 in /workspaces/dspy-handson/venv/lib/python3.12/site-packages (from mlflow-skinny==3.2.0->mlflow) (4.14.1)\n",
      "Requirement already satisfied: uvicorn<1 in /workspaces/dspy-handson/venv/lib/python3.12/site-packages (from mlflow-skinny==3.2.0->mlflow) (0.35.0)\n",
      "Requirement already satisfied: filelock in /workspaces/dspy-handson/venv/lib/python3.12/site-packages (from datasets) (3.18.0)\n",
      "Requirement already satisfied: dill<0.3.9,>=0.3.0 in /workspaces/dspy-handson/venv/lib/python3.12/site-packages (from datasets) (0.3.8)\n",
      "Requirement already satisfied: xxhash in /workspaces/dspy-handson/venv/lib/python3.12/site-packages (from datasets) (3.5.0)\n",
      "Requirement already satisfied: multiprocess<0.70.17 in /workspaces/dspy-handson/venv/lib/python3.12/site-packages (from datasets) (0.70.16)\n",
      "Requirement already satisfied: fsspec[http]<=2025.3.0,>=2023.1.0 in /workspaces/dspy-handson/venv/lib/python3.12/site-packages (from datasets) (2025.3.0)\n",
      "Requirement already satisfied: huggingface-hub>=0.24.0 in /workspaces/dspy-handson/venv/lib/python3.12/site-packages (from datasets) (0.34.4)\n",
      "Requirement already satisfied: Mako in /workspaces/dspy-handson/venv/lib/python3.12/site-packages (from alembic!=1.10.0,<2->mlflow) (1.3.10)\n",
      "Requirement already satisfied: idna>=2.8 in /workspaces/dspy-handson/venv/lib/python3.12/site-packages (from anyio->dspy) (3.10)\n",
      "Requirement already satisfied: sniffio>=1.1 in /workspaces/dspy-handson/venv/lib/python3.12/site-packages (from anyio->dspy) (1.3.1)\n",
      "Requirement already satisfied: filelock in /workspaces/dspy-handson/venv/lib/python3.12/site-packages (from datasets) (3.18.0)\n",
      "Requirement already satisfied: dill<0.3.9,>=0.3.0 in /workspaces/dspy-handson/venv/lib/python3.12/site-packages (from datasets) (0.3.8)\n",
      "Requirement already satisfied: xxhash in /workspaces/dspy-handson/venv/lib/python3.12/site-packages (from datasets) (3.5.0)\n",
      "Requirement already satisfied: multiprocess<0.70.17 in /workspaces/dspy-handson/venv/lib/python3.12/site-packages (from datasets) (0.70.16)\n",
      "Requirement already satisfied: fsspec[http]<=2025.3.0,>=2023.1.0 in /workspaces/dspy-handson/venv/lib/python3.12/site-packages (from datasets) (2025.3.0)\n",
      "Requirement already satisfied: huggingface-hub>=0.24.0 in /workspaces/dspy-handson/venv/lib/python3.12/site-packages (from datasets) (0.34.4)\n",
      "Requirement already satisfied: Mako in /workspaces/dspy-handson/venv/lib/python3.12/site-packages (from alembic!=1.10.0,<2->mlflow) (1.3.10)\n",
      "Requirement already satisfied: idna>=2.8 in /workspaces/dspy-handson/venv/lib/python3.12/site-packages (from anyio->dspy) (3.10)\n",
      "Requirement already satisfied: sniffio>=1.1 in /workspaces/dspy-handson/venv/lib/python3.12/site-packages (from anyio->dspy) (1.3.1)\n",
      "Requirement already satisfied: urllib3>=1.26.0 in /workspaces/dspy-handson/venv/lib/python3.12/site-packages (from docker<8,>=4.0.0->mlflow) (2.5.0)\n",
      "Requirement already satisfied: blinker>=1.9.0 in /workspaces/dspy-handson/venv/lib/python3.12/site-packages (from Flask<4->mlflow) (1.9.0)\n",
      "Requirement already satisfied: itsdangerous>=2.2.0 in /workspaces/dspy-handson/venv/lib/python3.12/site-packages (from Flask<4->mlflow) (2.2.0)\n",
      "Requirement already satisfied: jinja2>=3.1.2 in /workspaces/dspy-handson/venv/lib/python3.12/site-packages (from Flask<4->mlflow) (3.1.6)\n",
      "Requirement already satisfied: markupsafe>=2.1.1 in /workspaces/dspy-handson/venv/lib/python3.12/site-packages (from Flask<4->mlflow) (3.0.2)\n",
      "Requirement already satisfied: werkzeug>=3.1.0 in /workspaces/dspy-handson/venv/lib/python3.12/site-packages (from Flask<4->mlflow) (3.1.3)\n",
      "Requirement already satisfied: urllib3>=1.26.0 in /workspaces/dspy-handson/venv/lib/python3.12/site-packages (from docker<8,>=4.0.0->mlflow) (2.5.0)\n",
      "Requirement already satisfied: blinker>=1.9.0 in /workspaces/dspy-handson/venv/lib/python3.12/site-packages (from Flask<4->mlflow) (1.9.0)\n",
      "Requirement already satisfied: itsdangerous>=2.2.0 in /workspaces/dspy-handson/venv/lib/python3.12/site-packages (from Flask<4->mlflow) (2.2.0)\n",
      "Requirement already satisfied: jinja2>=3.1.2 in /workspaces/dspy-handson/venv/lib/python3.12/site-packages (from Flask<4->mlflow) (3.1.6)\n",
      "Requirement already satisfied: markupsafe>=2.1.1 in /workspaces/dspy-handson/venv/lib/python3.12/site-packages (from Flask<4->mlflow) (3.0.2)\n",
      "Requirement already satisfied: werkzeug>=3.1.0 in /workspaces/dspy-handson/venv/lib/python3.12/site-packages (from Flask<4->mlflow) (3.1.3)\n",
      "Requirement already satisfied: aiohttp!=4.0.0a0,!=4.0.0a1 in /workspaces/dspy-handson/venv/lib/python3.12/site-packages (from fsspec[http]<=2025.3.0,>=2023.1.0->datasets) (3.12.15)\n",
      "Requirement already satisfied: aiohttp!=4.0.0a0,!=4.0.0a1 in /workspaces/dspy-handson/venv/lib/python3.12/site-packages (from fsspec[http]<=2025.3.0,>=2023.1.0->datasets) (3.12.15)\n",
      "Requirement already satisfied: graphql-core<3.3,>=3.1 in /workspaces/dspy-handson/venv/lib/python3.12/site-packages (from graphene<4->mlflow) (3.2.6)\n",
      "Requirement already satisfied: graphql-relay<3.3,>=3.1 in /workspaces/dspy-handson/venv/lib/python3.12/site-packages (from graphene<4->mlflow) (3.2.0)\n",
      "Requirement already satisfied: python-dateutil<3,>=2.7.0 in /workspaces/dspy-handson/venv/lib/python3.12/site-packages (from graphene<4->mlflow) (2.9.0.post0)\n",
      "Requirement already satisfied: graphql-core<3.3,>=3.1 in /workspaces/dspy-handson/venv/lib/python3.12/site-packages (from graphene<4->mlflow) (3.2.6)\n",
      "Requirement already satisfied: graphql-relay<3.3,>=3.1 in /workspaces/dspy-handson/venv/lib/python3.12/site-packages (from graphene<4->mlflow) (3.2.0)\n",
      "Requirement already satisfied: python-dateutil<3,>=2.7.0 in /workspaces/dspy-handson/venv/lib/python3.12/site-packages (from graphene<4->mlflow) (2.9.0.post0)\n",
      "Requirement already satisfied: hf-xet<2.0.0,>=1.1.3 in /workspaces/dspy-handson/venv/lib/python3.12/site-packages (from huggingface-hub>=0.24.0->datasets) (1.1.7)\n",
      "Requirement already satisfied: httpx>=0.23.0 in /workspaces/dspy-handson/venv/lib/python3.12/site-packages (from litellm>=1.60.3->dspy) (0.28.1)\n",
      "Requirement already satisfied: jsonschema<5.0.0,>=4.22.0 in /workspaces/dspy-handson/venv/lib/python3.12/site-packages (from litellm>=1.60.3->dspy) (4.25.0)\n",
      "Requirement already satisfied: hf-xet<2.0.0,>=1.1.3 in /workspaces/dspy-handson/venv/lib/python3.12/site-packages (from huggingface-hub>=0.24.0->datasets) (1.1.7)\n",
      "Requirement already satisfied: httpx>=0.23.0 in /workspaces/dspy-handson/venv/lib/python3.12/site-packages (from litellm>=1.60.3->dspy) (0.28.1)\n",
      "Requirement already satisfied: jsonschema<5.0.0,>=4.22.0 in /workspaces/dspy-handson/venv/lib/python3.12/site-packages (from litellm>=1.60.3->dspy) (4.25.0)\n",
      "Requirement already satisfied: python-dotenv>=0.2.0 in /workspaces/dspy-handson/venv/lib/python3.12/site-packages (from litellm>=1.60.3->dspy) (1.1.1)\n",
      "Requirement already satisfied: tiktoken>=0.7.0 in /workspaces/dspy-handson/venv/lib/python3.12/site-packages (from litellm>=1.60.3->dspy) (0.11.0)\n",
      "Requirement already satisfied: tokenizers in /workspaces/dspy-handson/venv/lib/python3.12/site-packages (from litellm>=1.60.3->dspy) (0.21.4)\n",
      "Requirement already satisfied: contourpy>=1.0.1 in /workspaces/dspy-handson/venv/lib/python3.12/site-packages (from matplotlib<4->mlflow) (1.3.3)\n",
      "Requirement already satisfied: cycler>=0.10 in /workspaces/dspy-handson/venv/lib/python3.12/site-packages (from matplotlib<4->mlflow) (0.12.1)\n",
      "Requirement already satisfied: fonttools>=4.22.0 in /workspaces/dspy-handson/venv/lib/python3.12/site-packages (from matplotlib<4->mlflow) (4.59.0)\n",
      "Requirement already satisfied: kiwisolver>=1.3.1 in /workspaces/dspy-handson/venv/lib/python3.12/site-packages (from matplotlib<4->mlflow) (1.4.9)\n",
      "Requirement already satisfied: pillow>=8 in /workspaces/dspy-handson/venv/lib/python3.12/site-packages (from matplotlib<4->mlflow) (11.3.0)\n",
      "Requirement already satisfied: pyparsing>=2.3.1 in /workspaces/dspy-handson/venv/lib/python3.12/site-packages (from matplotlib<4->mlflow) (3.2.3)\n",
      "Requirement already satisfied: python-dotenv>=0.2.0 in /workspaces/dspy-handson/venv/lib/python3.12/site-packages (from litellm>=1.60.3->dspy) (1.1.1)\n",
      "Requirement already satisfied: tiktoken>=0.7.0 in /workspaces/dspy-handson/venv/lib/python3.12/site-packages (from litellm>=1.60.3->dspy) (0.11.0)\n",
      "Requirement already satisfied: tokenizers in /workspaces/dspy-handson/venv/lib/python3.12/site-packages (from litellm>=1.60.3->dspy) (0.21.4)\n",
      "Requirement already satisfied: contourpy>=1.0.1 in /workspaces/dspy-handson/venv/lib/python3.12/site-packages (from matplotlib<4->mlflow) (1.3.3)\n",
      "Requirement already satisfied: cycler>=0.10 in /workspaces/dspy-handson/venv/lib/python3.12/site-packages (from matplotlib<4->mlflow) (0.12.1)\n",
      "Requirement already satisfied: fonttools>=4.22.0 in /workspaces/dspy-handson/venv/lib/python3.12/site-packages (from matplotlib<4->mlflow) (4.59.0)\n",
      "Requirement already satisfied: kiwisolver>=1.3.1 in /workspaces/dspy-handson/venv/lib/python3.12/site-packages (from matplotlib<4->mlflow) (1.4.9)\n",
      "Requirement already satisfied: pillow>=8 in /workspaces/dspy-handson/venv/lib/python3.12/site-packages (from matplotlib<4->mlflow) (11.3.0)\n",
      "Requirement already satisfied: pyparsing>=2.3.1 in /workspaces/dspy-handson/venv/lib/python3.12/site-packages (from matplotlib<4->mlflow) (3.2.3)\n",
      "Requirement already satisfied: distro<2,>=1.7.0 in /workspaces/dspy-handson/venv/lib/python3.12/site-packages (from openai>=0.28.1->dspy) (1.9.0)\n",
      "Requirement already satisfied: jiter<1,>=0.4.0 in /workspaces/dspy-handson/venv/lib/python3.12/site-packages (from openai>=0.28.1->dspy) (0.10.0)\n",
      "Requirement already satisfied: distro<2,>=1.7.0 in /workspaces/dspy-handson/venv/lib/python3.12/site-packages (from openai>=0.28.1->dspy) (1.9.0)\n",
      "Requirement already satisfied: jiter<1,>=0.4.0 in /workspaces/dspy-handson/venv/lib/python3.12/site-packages (from openai>=0.28.1->dspy) (0.10.0)\n",
      "Requirement already satisfied: colorlog in /workspaces/dspy-handson/venv/lib/python3.12/site-packages (from optuna>=3.4.0->dspy) (6.9.0)\n",
      "Requirement already satisfied: colorlog in /workspaces/dspy-handson/venv/lib/python3.12/site-packages (from optuna>=3.4.0->dspy) (6.9.0)\n",
      "Requirement already satisfied: pytz>=2020.1 in /workspaces/dspy-handson/venv/lib/python3.12/site-packages (from pandas>=2.1.1->dspy) (2025.2)\n",
      "Requirement already satisfied: tzdata>=2022.7 in /workspaces/dspy-handson/venv/lib/python3.12/site-packages (from pandas>=2.1.1->dspy) (2025.2)\n",
      "Requirement already satisfied: pytz>=2020.1 in /workspaces/dspy-handson/venv/lib/python3.12/site-packages (from pandas>=2.1.1->dspy) (2025.2)\n",
      "Requirement already satisfied: tzdata>=2022.7 in /workspaces/dspy-handson/venv/lib/python3.12/site-packages (from pandas>=2.1.1->dspy) (2025.2)\n",
      "Requirement already satisfied: annotated-types>=0.6.0 in /workspaces/dspy-handson/venv/lib/python3.12/site-packages (from pydantic>=2.0->dspy) (0.7.0)\n",
      "Requirement already satisfied: pydantic-core==2.33.2 in /workspaces/dspy-handson/venv/lib/python3.12/site-packages (from pydantic>=2.0->dspy) (2.33.2)\n",
      "Requirement already satisfied: typing-inspection>=0.4.0 in /workspaces/dspy-handson/venv/lib/python3.12/site-packages (from pydantic>=2.0->dspy) (0.4.1)\n",
      "Requirement already satisfied: charset_normalizer<4,>=2 in /workspaces/dspy-handson/venv/lib/python3.12/site-packages (from requests>=2.31.0->dspy) (3.4.3)\n",
      "Requirement already satisfied: certifi>=2017.4.17 in /workspaces/dspy-handson/venv/lib/python3.12/site-packages (from requests>=2.31.0->dspy) (2025.8.3)\n",
      "Requirement already satisfied: markdown-it-py>=2.2.0 in /workspaces/dspy-handson/venv/lib/python3.12/site-packages (from rich>=13.7.1->dspy) (4.0.0)\n",
      "Requirement already satisfied: pygments<3.0.0,>=2.13.0 in /workspaces/dspy-handson/venv/lib/python3.12/site-packages (from rich>=13.7.1->dspy) (2.19.2)\n",
      "Requirement already satisfied: annotated-types>=0.6.0 in /workspaces/dspy-handson/venv/lib/python3.12/site-packages (from pydantic>=2.0->dspy) (0.7.0)\n",
      "Requirement already satisfied: pydantic-core==2.33.2 in /workspaces/dspy-handson/venv/lib/python3.12/site-packages (from pydantic>=2.0->dspy) (2.33.2)\n",
      "Requirement already satisfied: typing-inspection>=0.4.0 in /workspaces/dspy-handson/venv/lib/python3.12/site-packages (from pydantic>=2.0->dspy) (0.4.1)\n",
      "Requirement already satisfied: charset_normalizer<4,>=2 in /workspaces/dspy-handson/venv/lib/python3.12/site-packages (from requests>=2.31.0->dspy) (3.4.3)\n",
      "Requirement already satisfied: certifi>=2017.4.17 in /workspaces/dspy-handson/venv/lib/python3.12/site-packages (from requests>=2.31.0->dspy) (2025.8.3)\n",
      "Requirement already satisfied: markdown-it-py>=2.2.0 in /workspaces/dspy-handson/venv/lib/python3.12/site-packages (from rich>=13.7.1->dspy) (4.0.0)\n",
      "Requirement already satisfied: pygments<3.0.0,>=2.13.0 in /workspaces/dspy-handson/venv/lib/python3.12/site-packages (from rich>=13.7.1->dspy) (2.19.2)\n",
      "Requirement already satisfied: threadpoolctl>=3.1.0 in /workspaces/dspy-handson/venv/lib/python3.12/site-packages (from scikit-learn<2->mlflow) (3.6.0)\n",
      "Requirement already satisfied: threadpoolctl>=3.1.0 in /workspaces/dspy-handson/venv/lib/python3.12/site-packages (from scikit-learn<2->mlflow) (3.6.0)\n",
      "Requirement already satisfied: greenlet>=1 in /workspaces/dspy-handson/venv/lib/python3.12/site-packages (from sqlalchemy<3,>=1.4.0->mlflow) (3.2.4)\n",
      "Requirement already satisfied: greenlet>=1 in /workspaces/dspy-handson/venv/lib/python3.12/site-packages (from sqlalchemy<3,>=1.4.0->mlflow) (3.2.4)\n",
      "Requirement already satisfied: aiohappyeyeballs>=2.5.0 in /workspaces/dspy-handson/venv/lib/python3.12/site-packages (from aiohttp!=4.0.0a0,!=4.0.0a1->fsspec[http]<=2025.3.0,>=2023.1.0->datasets) (2.6.1)\n",
      "Requirement already satisfied: aiosignal>=1.4.0 in /workspaces/dspy-handson/venv/lib/python3.12/site-packages (from aiohttp!=4.0.0a0,!=4.0.0a1->fsspec[http]<=2025.3.0,>=2023.1.0->datasets) (1.4.0)\n",
      "Requirement already satisfied: attrs>=17.3.0 in /workspaces/dspy-handson/venv/lib/python3.12/site-packages (from aiohttp!=4.0.0a0,!=4.0.0a1->fsspec[http]<=2025.3.0,>=2023.1.0->datasets) (25.3.0)\n",
      "Requirement already satisfied: frozenlist>=1.1.1 in /workspaces/dspy-handson/venv/lib/python3.12/site-packages (from aiohttp!=4.0.0a0,!=4.0.0a1->fsspec[http]<=2025.3.0,>=2023.1.0->datasets) (1.7.0)\n",
      "Requirement already satisfied: multidict<7.0,>=4.5 in /workspaces/dspy-handson/venv/lib/python3.12/site-packages (from aiohttp!=4.0.0a0,!=4.0.0a1->fsspec[http]<=2025.3.0,>=2023.1.0->datasets) (6.6.4)\n",
      "Requirement already satisfied: propcache>=0.2.0 in /workspaces/dspy-handson/venv/lib/python3.12/site-packages (from aiohttp!=4.0.0a0,!=4.0.0a1->fsspec[http]<=2025.3.0,>=2023.1.0->datasets) (0.3.2)\n",
      "Requirement already satisfied: yarl<2.0,>=1.17.0 in /workspaces/dspy-handson/venv/lib/python3.12/site-packages (from aiohttp!=4.0.0a0,!=4.0.0a1->fsspec[http]<=2025.3.0,>=2023.1.0->datasets) (1.20.1)\n",
      "Requirement already satisfied: aiohappyeyeballs>=2.5.0 in /workspaces/dspy-handson/venv/lib/python3.12/site-packages (from aiohttp!=4.0.0a0,!=4.0.0a1->fsspec[http]<=2025.3.0,>=2023.1.0->datasets) (2.6.1)\n",
      "Requirement already satisfied: aiosignal>=1.4.0 in /workspaces/dspy-handson/venv/lib/python3.12/site-packages (from aiohttp!=4.0.0a0,!=4.0.0a1->fsspec[http]<=2025.3.0,>=2023.1.0->datasets) (1.4.0)\n",
      "Requirement already satisfied: attrs>=17.3.0 in /workspaces/dspy-handson/venv/lib/python3.12/site-packages (from aiohttp!=4.0.0a0,!=4.0.0a1->fsspec[http]<=2025.3.0,>=2023.1.0->datasets) (25.3.0)\n",
      "Requirement already satisfied: frozenlist>=1.1.1 in /workspaces/dspy-handson/venv/lib/python3.12/site-packages (from aiohttp!=4.0.0a0,!=4.0.0a1->fsspec[http]<=2025.3.0,>=2023.1.0->datasets) (1.7.0)\n",
      "Requirement already satisfied: multidict<7.0,>=4.5 in /workspaces/dspy-handson/venv/lib/python3.12/site-packages (from aiohttp!=4.0.0a0,!=4.0.0a1->fsspec[http]<=2025.3.0,>=2023.1.0->datasets) (6.6.4)\n",
      "Requirement already satisfied: propcache>=0.2.0 in /workspaces/dspy-handson/venv/lib/python3.12/site-packages (from aiohttp!=4.0.0a0,!=4.0.0a1->fsspec[http]<=2025.3.0,>=2023.1.0->datasets) (0.3.2)\n",
      "Requirement already satisfied: yarl<2.0,>=1.17.0 in /workspaces/dspy-handson/venv/lib/python3.12/site-packages (from aiohttp!=4.0.0a0,!=4.0.0a1->fsspec[http]<=2025.3.0,>=2023.1.0->datasets) (1.20.1)\n",
      "Requirement already satisfied: google-auth~=2.0 in /workspaces/dspy-handson/venv/lib/python3.12/site-packages (from databricks-sdk<1,>=0.20.0->mlflow-skinny==3.2.0->mlflow) (2.40.3)\n",
      "Requirement already satisfied: starlette<0.48.0,>=0.40.0 in /workspaces/dspy-handson/venv/lib/python3.12/site-packages (from fastapi<1->mlflow-skinny==3.2.0->mlflow) (0.47.2)\n",
      "Requirement already satisfied: google-auth~=2.0 in /workspaces/dspy-handson/venv/lib/python3.12/site-packages (from databricks-sdk<1,>=0.20.0->mlflow-skinny==3.2.0->mlflow) (2.40.3)\n",
      "Requirement already satisfied: starlette<0.48.0,>=0.40.0 in /workspaces/dspy-handson/venv/lib/python3.12/site-packages (from fastapi<1->mlflow-skinny==3.2.0->mlflow) (0.47.2)\n",
      "Requirement already satisfied: gitdb<5,>=4.0.1 in /workspaces/dspy-handson/venv/lib/python3.12/site-packages (from gitpython<4,>=3.1.9->mlflow-skinny==3.2.0->mlflow) (4.0.12)\n",
      "Requirement already satisfied: gitdb<5,>=4.0.1 in /workspaces/dspy-handson/venv/lib/python3.12/site-packages (from gitpython<4,>=3.1.9->mlflow-skinny==3.2.0->mlflow) (4.0.12)\n",
      "Requirement already satisfied: httpcore==1.* in /workspaces/dspy-handson/venv/lib/python3.12/site-packages (from httpx>=0.23.0->litellm>=1.60.3->dspy) (1.0.9)\n",
      "Requirement already satisfied: httpcore==1.* in /workspaces/dspy-handson/venv/lib/python3.12/site-packages (from httpx>=0.23.0->litellm>=1.60.3->dspy) (1.0.9)\n",
      "Requirement already satisfied: h11>=0.16 in /workspaces/dspy-handson/venv/lib/python3.12/site-packages (from httpcore==1.*->httpx>=0.23.0->litellm>=1.60.3->dspy) (0.16.0)\n",
      "Requirement already satisfied: zipp>=3.20 in /workspaces/dspy-handson/venv/lib/python3.12/site-packages (from importlib_metadata!=4.7.0,<9,>=3.7.0->mlflow-skinny==3.2.0->mlflow) (3.23.0)\n",
      "Requirement already satisfied: h11>=0.16 in /workspaces/dspy-handson/venv/lib/python3.12/site-packages (from httpcore==1.*->httpx>=0.23.0->litellm>=1.60.3->dspy) (0.16.0)\n",
      "Requirement already satisfied: zipp>=3.20 in /workspaces/dspy-handson/venv/lib/python3.12/site-packages (from importlib_metadata!=4.7.0,<9,>=3.7.0->mlflow-skinny==3.2.0->mlflow) (3.23.0)\n",
      "Requirement already satisfied: jsonschema-specifications>=2023.03.6 in /workspaces/dspy-handson/venv/lib/python3.12/site-packages (from jsonschema<5.0.0,>=4.22.0->litellm>=1.60.3->dspy) (2025.4.1)\n",
      "Requirement already satisfied: referencing>=0.28.4 in /workspaces/dspy-handson/venv/lib/python3.12/site-packages (from jsonschema<5.0.0,>=4.22.0->litellm>=1.60.3->dspy) (0.36.2)\n",
      "Requirement already satisfied: rpds-py>=0.7.1 in /workspaces/dspy-handson/venv/lib/python3.12/site-packages (from jsonschema<5.0.0,>=4.22.0->litellm>=1.60.3->dspy) (0.27.0)\n",
      "Requirement already satisfied: jsonschema-specifications>=2023.03.6 in /workspaces/dspy-handson/venv/lib/python3.12/site-packages (from jsonschema<5.0.0,>=4.22.0->litellm>=1.60.3->dspy) (2025.4.1)\n",
      "Requirement already satisfied: referencing>=0.28.4 in /workspaces/dspy-handson/venv/lib/python3.12/site-packages (from jsonschema<5.0.0,>=4.22.0->litellm>=1.60.3->dspy) (0.36.2)\n",
      "Requirement already satisfied: rpds-py>=0.7.1 in /workspaces/dspy-handson/venv/lib/python3.12/site-packages (from jsonschema<5.0.0,>=4.22.0->litellm>=1.60.3->dspy) (0.27.0)\n",
      "Requirement already satisfied: mdurl~=0.1 in /workspaces/dspy-handson/venv/lib/python3.12/site-packages (from markdown-it-py>=2.2.0->rich>=13.7.1->dspy) (0.1.2)\n",
      "Requirement already satisfied: mdurl~=0.1 in /workspaces/dspy-handson/venv/lib/python3.12/site-packages (from markdown-it-py>=2.2.0->rich>=13.7.1->dspy) (0.1.2)\n",
      "Requirement already satisfied: opentelemetry-semantic-conventions==0.57b0 in /workspaces/dspy-handson/venv/lib/python3.12/site-packages (from opentelemetry-sdk<3,>=1.9.0->mlflow-skinny==3.2.0->mlflow) (0.57b0)\n",
      "Requirement already satisfied: opentelemetry-semantic-conventions==0.57b0 in /workspaces/dspy-handson/venv/lib/python3.12/site-packages (from opentelemetry-sdk<3,>=1.9.0->mlflow-skinny==3.2.0->mlflow) (0.57b0)\n",
      "Requirement already satisfied: six>=1.5 in /workspaces/dspy-handson/venv/lib/python3.12/site-packages (from python-dateutil<3,>=2.7.0->graphene<4->mlflow) (1.17.0)\n",
      "Requirement already satisfied: six>=1.5 in /workspaces/dspy-handson/venv/lib/python3.12/site-packages (from python-dateutil<3,>=2.7.0->graphene<4->mlflow) (1.17.0)\n",
      "Requirement already satisfied: smmap<6,>=3.0.1 in /workspaces/dspy-handson/venv/lib/python3.12/site-packages (from gitdb<5,>=4.0.1->gitpython<4,>=3.1.9->mlflow-skinny==3.2.0->mlflow) (5.0.2)\n",
      "Requirement already satisfied: smmap<6,>=3.0.1 in /workspaces/dspy-handson/venv/lib/python3.12/site-packages (from gitdb<5,>=4.0.1->gitpython<4,>=3.1.9->mlflow-skinny==3.2.0->mlflow) (5.0.2)\n",
      "Requirement already satisfied: pyasn1-modules>=0.2.1 in /workspaces/dspy-handson/venv/lib/python3.12/site-packages (from google-auth~=2.0->databricks-sdk<1,>=0.20.0->mlflow-skinny==3.2.0->mlflow) (0.4.2)\n",
      "Requirement already satisfied: rsa<5,>=3.1.4 in /workspaces/dspy-handson/venv/lib/python3.12/site-packages (from google-auth~=2.0->databricks-sdk<1,>=0.20.0->mlflow-skinny==3.2.0->mlflow) (4.9.1)\n",
      "Requirement already satisfied: pyasn1-modules>=0.2.1 in /workspaces/dspy-handson/venv/lib/python3.12/site-packages (from google-auth~=2.0->databricks-sdk<1,>=0.20.0->mlflow-skinny==3.2.0->mlflow) (0.4.2)\n",
      "Requirement already satisfied: rsa<5,>=3.1.4 in /workspaces/dspy-handson/venv/lib/python3.12/site-packages (from google-auth~=2.0->databricks-sdk<1,>=0.20.0->mlflow-skinny==3.2.0->mlflow) (4.9.1)\n",
      "Requirement already satisfied: pyasn1<0.7.0,>=0.6.1 in /workspaces/dspy-handson/venv/lib/python3.12/site-packages (from pyasn1-modules>=0.2.1->google-auth~=2.0->databricks-sdk<1,>=0.20.0->mlflow-skinny==3.2.0->mlflow) (0.6.1)\n",
      "Requirement already satisfied: pyasn1<0.7.0,>=0.6.1 in /workspaces/dspy-handson/venv/lib/python3.12/site-packages (from pyasn1-modules>=0.2.1->google-auth~=2.0->databricks-sdk<1,>=0.20.0->mlflow-skinny==3.2.0->mlflow) (0.6.1)\n",
      "\n",
      "\u001b[1m[\u001b[0m\u001b[34;49mnotice\u001b[0m\u001b[1;39;49m]\u001b[0m\u001b[39;49m A new release of pip is available: \u001b[0m\u001b[31;49m23.2.1\u001b[0m\u001b[39;49m -> \u001b[0m\u001b[32;49m25.2\u001b[0m\n",
      "\u001b[1m[\u001b[0m\u001b[34;49mnotice\u001b[0m\u001b[1;39;49m]\u001b[0m\u001b[39;49m To update, run: \u001b[0m\u001b[32;49mpip install --upgrade pip\u001b[0m\n",
      "\n",
      "\u001b[1m[\u001b[0m\u001b[34;49mnotice\u001b[0m\u001b[1;39;49m]\u001b[0m\u001b[39;49m A new release of pip is available: \u001b[0m\u001b[31;49m23.2.1\u001b[0m\u001b[39;49m -> \u001b[0m\u001b[32;49m25.2\u001b[0m\n",
      "\u001b[1m[\u001b[0m\u001b[34;49mnotice\u001b[0m\u001b[1;39;49m]\u001b[0m\u001b[39;49m To update, run: \u001b[0m\u001b[32;49mpip install --upgrade pip\u001b[0m\n",
      "✅ Package installation complete!\n",
      "✅ Package installation complete!\n"
     ]
    }
   ],
   "source": [
    "# Install required packages for DSPy, MLflow, and datasets\n",
    "print(\"📦 Installing required packages...\")\n",
    "!pip install -U dspy mlflow datasets\n",
    "\n",
    "print(\"✅ Package installation complete!\")"
   ]
  },
  {
   "cell_type": "code",
   "execution_count": null,
   "id": "db886e89",
   "metadata": {},
   "outputs": [
    {
     "name": "stderr",
     "output_type": "stream",
     "text": [
      "2025/08/12 12:28:17 INFO mlflow.tracking.fluent: Experiment with name 'DSPy_Learning_Tutorial' does not exist. Creating a new experiment.\n"
     ]
    },
    {
     "name": "stdout",
     "output_type": "stream",
     "text": [
      "✅ MLflow configured for experiment tracking\n",
      "🔗 Access MLflow UI at: http://localhost:5000\n"
     ]
    }
   ],
   "source": [
    "# # Configure MLflow for experiment tracking\n",
    "# import mlflow\n",
    "\n",
    "# # Enable automatic logging for DSPy operations\n",
    "# # This will track all DSPy calls, parameters, and results\n",
    "# mlflow.dspy.autolog()\n",
    "\n",
    "# # Set up experiment tracking\n",
    "# mlflow.set_experiment(\"DSPy_Learning_Tutorial\")\n",
    "# mlflow.set_tracking_uri(\"http://localhost:5000\")\n",
    "\n",
    "# print(\"✅ MLflow configured for experiment tracking\")\n",
    "# print(\"🔗 Access MLflow UI at: http://localhost:5000\")"
   ]
  },
  {
   "cell_type": "code",
   "execution_count": 1,
   "id": "fd6bd3a7",
   "metadata": {},
   "outputs": [
    {
     "name": "stdout",
     "output_type": "stream",
     "text": [
      "✅ API key loaded successfully\n",
      "🔑 API key length: 164 characters\n"
     ]
    }
   ],
   "source": [
    "# Load environment variables securely\n",
    "from dotenv import load_dotenv\n",
    "import os\n",
    "\n",
    "# Load environment variables from .env file\n",
    "load_dotenv()\n",
    "api_key = os.getenv(\"OPENAI_API_KEY\")\n",
    "\n",
    "# Validate API key\n",
    "if not api_key:\n",
    "    raise ValueError(\"❌ OPENAI_API_KEY not found in environment variables\")\n",
    "\n",
    "print(\"✅ API key loaded successfully\")\n",
    "print(f\"🔑 API key length: {len(api_key)} characters\")"
   ]
  },
  {
   "cell_type": "code",
   "execution_count": 2,
   "id": "9b72bd95",
   "metadata": {},
   "outputs": [
    {
     "name": "stdout",
     "output_type": "stream",
     "text": [
      "✅ DSPy configured successfully with GPT-4o-mini\n",
      "🤖 Ready to start building LM applications!\n"
     ]
    }
   ],
   "source": [
    "# Configure DSPy with OpenAI GPT-4o-mini\n",
    "import dspy\n",
    "\n",
    "\n",
    "# Initialize the language model\n",
    "lm = dspy.LM(\"openai/gpt-4o-mini\", api_key=api_key)\n",
    "dspy.configure(lm=lm)\n",
    "\n",
    "print(\"✅ DSPy configured successfully with GPT-4o-mini\")\n",
    "print(\"🤖 Ready to start building LM applications!\")\n",
    "    \n"
   ]
  },
  {
   "cell_type": "code",
   "execution_count": 4,
   "id": "f88ca471",
   "metadata": {},
   "outputs": [
    {
     "name": "stdout",
     "output_type": "stream",
     "text": [
      "🧪 Testing DSPy connection...\n",
      "✅ Connection test successful!\n",
      "🤖 Model response: ['Hello! How can I assist you today?']\n"
     ]
    }
   ],
   "source": [
    "# Test the DSPy connection with a simple query\n",
    "print(\"🧪 Testing DSPy connection...\")\n",
    "\n",
    "test_response = lm(\"Hello!\",)\n",
    "print(\"✅ Connection test successful!\")\n",
    "print(f\"🤖 Model response: {test_response}\")"
   ]
  },
  {
   "cell_type": "markdown",
   "id": "e1f6aa64",
   "metadata": {},
   "source": [
    "---\n",
    "\n",
    "## 🧠 Chain of Thought Reasoning {#cot}\n",
    "\n",
    "Chain of Thought prompting helps language models break down complex problems into step-by-step reasoning.\n",
    "\n",
    "### Example: Mathematical Probability Problem\n",
    "\n",
    "Let's solve a probability problem step by step using DSPy's Chain of Thought module."
   ]
  },
  {
   "cell_type": "code",
   "execution_count": 5,
   "id": "8b897a92",
   "metadata": {},
   "outputs": [
    {
     "name": "stdout",
     "output_type": "stream",
     "text": [
      "📝 Question: Four dice are tossed. What is the probability that all four dice show the same number?\n",
      "🤔 Let the model reason through this step by step...\n",
      "\n",
      "💭 Model's reasoning: When four dice are tossed, each die has 6 faces, and thus there are a total of \\(6^4\\) possible outcomes when rolling four dice. This is because each die can land on any of the 6 faces independently. The total number of outcomes is:\n",
      "\n",
      "\\[\n",
      "6^4 = 1296\n",
      "\\]\n",
      "\n",
      "Now, for all four dice to show the same number, they must all land on one of the 6 faces. There are exactly 6 favorable outcomes for this event (one for each number from 1 to 6). Therefore, the probability \\(P\\) that all four dice show the same number is given by the ratio of the number of favorable outcomes to the total number of outcomes:\n",
      "\n",
      "\\[\n",
      "P = \\frac{\\text{Number of favorable outcomes}}{\\text{Total outcomes}} = \\frac{6}{1296} = \\frac{1}{216}\n",
      "\\]\n",
      "\n",
      "Calculating this gives:\n",
      "\n",
      "\\[\n",
      "P \\approx 0.0046296296296296295\n",
      "\\]\n",
      "\n",
      "Thus, the probability that all four dice show the same number is approximately 0.00463.\n",
      "🎯 Final answer: 0.004629629629629629\n"
     ]
    }
   ],
   "source": [
    "# Define a Chain of Thought module for mathematical reasoning\n",
    "math_solver = dspy.ChainOfThought(\"question -> reasoning: str, answer: float\")\n",
    "\n",
    "# Example: Probability calculation\n",
    "question = \"Four dice are tossed. What is the probability that all four dice show the same number?\"\n",
    "\n",
    "print(f\"📝 Question: {question}\")\n",
    "print(\"🤔 Let the model reason through this step by step...\")\n",
    "\n",
    "result = math_solver(question=question)\n",
    "\n",
    "print(f\"\\n💭 Model's reasoning: {result.reasoning}\")\n",
    "print(f\"🎯 Final answer: {result.answer}\")\n",
    "\n",
    "# Note: The correct answer should be 6/6^4 = 6/1296 = 1/216 ≈ 0.00463"
   ]
  },
  {
   "cell_type": "code",
   "execution_count": 6,
   "id": "e0e3550e",
   "metadata": {},
   "outputs": [
    {
     "name": "stdout",
     "output_type": "stream",
     "text": [
      "🎨 Multi-output example: Generate both answer and image prompt\n",
      "📊 Numerical answer: 0.004629629629629629\n",
      "🖼️ Image prompt: A visual representation of four dice showing the same number, with a focus on the probability of this event occurring.\n"
     ]
    },
    {
     "data": {
      "text/plain": [
       "Prediction(\n",
       "    reasoning='When four dice are tossed, each die has 6 faces, and thus there are a total of \\\\(6^4\\\\) possible outcomes when rolling four dice. To find the probability that all four dice show the same number, we note that there are 6 favorable outcomes (one for each number from 1 to 6). Therefore, the probability \\\\(P\\\\) that all four dice show the same number is given by the ratio of favorable outcomes to total outcomes:\\n\\n\\\\[\\nP = \\\\frac{\\\\text{Number of favorable outcomes}}{\\\\text{Total outcomes}} = \\\\frac{6}{6^4} = \\\\frac{6}{1296} = \\\\frac{1}{216}\\n\\\\]\\n\\nCalculating this gives us:\\n\\n\\\\[\\nP \\\\approx 0.004629629629629629\\n\\\\]',\n",
       "    ans=0.004629629629629629,\n",
       "    image_prompt='A visual representation of four dice showing the same number, with a focus on the probability of this event occurring.'\n",
       ")"
      ]
     },
     "execution_count": 6,
     "metadata": {},
     "output_type": "execute_result"
    }
   ],
   "source": [
    "# Example with multiple outputs: answer and image prompt\n",
    "print(\"🎨 Multi-output example: Generate both answer and image prompt\")\n",
    "\n",
    "# Chain of Thought with multiple outputs\n",
    "math_with_image = dspy.ChainOfThought(\"query -> ans: float, image_prompt: str\")\n",
    "\n",
    "query = \"Four dice are tossed. What is the probability that all four dice show the same number?\"\n",
    "result = math_with_image(query=query)\n",
    "\n",
    "print(f\"📊 Numerical answer: {result.ans}\")\n",
    "print(f\"🖼️ Image prompt: {result.image_prompt}\")\n",
    "\n",
    "result"
   ]
  },
  {
   "cell_type": "code",
   "execution_count": 7,
   "id": "79b57ddd",
   "metadata": {},
   "outputs": [
    {
     "name": "stdout",
     "output_type": "stream",
     "text": [
      "🔍 Accessing specific output fields:\n",
      "📈 Just the numerical answer: 0.004629629629629629\n",
      "📈 Type of answer: <class 'float'>\n"
     ]
    }
   ],
   "source": [
    "# Accessing specific outputs from the result\n",
    "print(\"🔍 Accessing specific output fields:\")\n",
    "print(f\"📈 Just the numerical answer: {result.ans}\")\n",
    "print(f\"📈 Type of answer: {type(result.ans)}\")"
   ]
  },
  {
   "cell_type": "code",
   "execution_count": 8,
   "id": "a1650d4c",
   "metadata": {},
   "outputs": [
    {
     "name": "stdout",
     "output_type": "stream",
     "text": [
      "✅ Wikipedia search function defined\n"
     ]
    }
   ],
   "source": [
    "# Define Wikipedia search function using ColBERTv2\n",
    "def search_wikipedia(query: str) -> list[str]:\n",
    "    \"\"\"\n",
    "    Search Wikipedia abstracts using ColBERTv2 retrieval model.\n",
    "    \n",
    "    Args:\n",
    "        query: Search query string\n",
    "        \n",
    "    Returns:\n",
    "        List of relevant text passages from Wikipedia\n",
    "    \"\"\"\n",
    "    print(f\"🔍 Searching Wikipedia for: '{query}'\")\n",
    "    \n",
    "    # Connect to ColBERTv2 retrieval service\n",
    "    results = dspy.ColBERTv2(url=\"http://20.102.90.50:2017/wiki17_abstracts\")(query, k=3)\n",
    "    \n",
    "    # Extract text from results\n",
    "    passages = [x[\"text\"] for x in results]\n",
    "    \n",
    "    print(f\"📚 Found {len(passages)} relevant passages\")\n",
    "    return passages\n",
    "\n",
    "print(\"✅ Wikipedia search function defined\")"
   ]
  },
  {
   "cell_type": "code",
   "execution_count": 9,
   "id": "3b0ba721",
   "metadata": {},
   "outputs": [
    {
     "name": "stdout",
     "output_type": "stream",
     "text": [
      "❓ Question: What's the name of the castle that David Gregory inherited?\n",
      "\n",
      "📖 Retrieved context:\n",
      "🔍 Searching Wikipedia for: 'What's the name of the castle that David Gregory inherited?'\n",
      "📚 Found 3 relevant passages\n",
      "\n",
      "📄 Passage 1: David Gregory (physician) | David Gregory (20 December 1625 – 1720) was a Scottish physician and inventor. His surname is sometimes spelt as Gregorie, the original Scottish spelling. He inherited Kinn...\n",
      "\n",
      "📄 Passage 2: Gregory Tarchaneiotes | Gregory Tarchaneiotes (Greek: Γρηγόριος Ταρχανειώτης , Italian: \"Gregorio Tracanioto\" or \"Tracamoto\" ) was a \"protospatharius\" and the long-reigning catepan of Italy from 998 t...\n",
      "\n",
      "📄 Passage 3: Gregory of Gaeta | Gregory was the Duke of Gaeta from 963 until his death. He was the second son of Docibilis II of Gaeta and his wife Orania. He succeeded his brother John II, who had left only daugh...\n",
      "\n",
      "🤖 Generating answer based on retrieved context...\n",
      "\n",
      "✅ Final Answer: The name of the castle that David Gregory inherited is Kinnairdy Castle.\n"
     ]
    },
    {
     "data": {
      "text/plain": [
       "Prediction(\n",
       "    reasoning='David Gregory inherited Kinnairdy Castle in 1664, as mentioned in the context provided.',\n",
       "    response='The name of the castle that David Gregory inherited is Kinnairdy Castle.'\n",
       ")"
      ]
     },
     "execution_count": 9,
     "metadata": {},
     "output_type": "execute_result"
    }
   ],
   "source": [
    "# Create RAG pipeline: retrieval + generation\n",
    "rag = dspy.ChainOfThought(\"context, question -> response\")\n",
    "\n",
    "# Example question about historical information\n",
    "question = \"What's the name of the castle that David Gregory inherited?\"\n",
    "\n",
    "print(f\"❓ Question: {question}\")\n",
    "print(\"\\n📖 Retrieved context:\")\n",
    "\n",
    "# Get relevant context from Wikipedia\n",
    "context = search_wikipedia(question)\n",
    "for i, passage in enumerate(context, 1):\n",
    "    print(f\"\\n📄 Passage {i}: {passage[:200]}...\")\n",
    "\n",
    "print(\"\\n🤖 Generating answer based on retrieved context...\")\n",
    "\n",
    "# Generate answer using retrieved context\n",
    "result = rag(context=context, question=question)\n",
    "\n",
    "print(f\"\\n✅ Final Answer: {result.response}\")\n",
    "\n",
    "result"
   ]
  },
  {
   "cell_type": "code",
   "execution_count": 10,
   "id": "34c82768",
   "metadata": {},
   "outputs": [
    {
     "name": "stdout",
     "output_type": "stream",
     "text": [
      "✅ Advanced sentiment classification signature defined\n",
      "📋 Output fields: confidence, joyness, sadness, sentiment\n"
     ]
    }
   ],
   "source": [
    "# Define advanced sentiment classification signature\n",
    "from typing import Literal\n",
    "\n",
    "class Classify(dspy.Signature):\n",
    "    \"\"\"\n",
    "    Classify sentiment of a given sentence with detailed emotional analysis.\n",
    "    \n",
    "    This signature extracts multiple emotional dimensions and provides\n",
    "    confidence scores for comprehensive sentiment understanding.\n",
    "    \"\"\"\n",
    "\n",
    "    sentence: str = dspy.InputField(desc=\"Input text to analyze\")\n",
    "    confidence: float = dspy.OutputField(desc=\"Overall confidence score (0-1)\")\n",
    "    joyness: float = dspy.OutputField(desc=\"Joy/happiness level (0-1)\")\n",
    "    sadness: float = dspy.OutputField(desc=\"Sadness level (0-1)\")\n",
    "    sentiment: Literal[\"happy\", \"sad\", \"angry\", \"neutral\", \"joy\", \"fun\"] = dspy.OutputField(desc=\"Primary sentiment category\")\n",
    "\n",
    "print(\"✅ Advanced sentiment classification signature defined\")\n",
    "print(\"📋 Output fields: confidence, joyness, sadness, sentiment\")"
   ]
  },
  {
   "cell_type": "code",
   "execution_count": 11,
   "id": "05ac8c84",
   "metadata": {},
   "outputs": [
    {
     "name": "stdout",
     "output_type": "stream",
     "text": [
      "📝 Analyzing text: This book was super fun to read, though not all chapters but half of them. Easy to understand the English and I am really really enjoying it!\n",
      "\n",
      "🔍 Running sentiment analysis...\n",
      "\n",
      "📊 Results:\n",
      "🎯 Primary sentiment: fun\n",
      "📈 Confidence: 0.92\n",
      "😊 Joy level: 0.85\n",
      "😢 Sadness level: 0.05\n"
     ]
    },
    {
     "data": {
      "text/plain": [
       "Prediction(\n",
       "    confidence=0.92,\n",
       "    joyness=0.85,\n",
       "    sadness=0.05,\n",
       "    sentiment='fun'\n",
       ")"
      ]
     },
     "execution_count": 11,
     "metadata": {},
     "output_type": "execute_result"
    }
   ],
   "source": [
    "# Create and test the sentiment classifier\n",
    "classify = dspy.Predict(Classify)\n",
    "\n",
    "# Example text with mixed emotions\n",
    "test_sentence = \"This book was super fun to read, though not all chapters but half of them. Easy to understand the English and I am really really enjoying it!\"\n",
    "\n",
    "print(f\"📝 Analyzing text: {test_sentence}\")\n",
    "print(\"\\n🔍 Running sentiment analysis...\")\n",
    "\n",
    "result = classify(sentence=test_sentence)\n",
    "\n",
    "print(f\"\\n📊 Results:\")\n",
    "print(f\"🎯 Primary sentiment: {result.sentiment}\")\n",
    "print(f\"📈 Confidence: {result.confidence}\")\n",
    "print(f\"😊 Joy level: {result.joyness}\")\n",
    "print(f\"😢 Sadness level: {result.sadness}\")\n",
    "\n",
    "result"
   ]
  },
  {
   "cell_type": "code",
   "execution_count": 12,
   "id": "e254cf94",
   "metadata": {},
   "outputs": [
    {
     "name": "stdout",
     "output_type": "stream",
     "text": [
      "📄 Input text: Apple Inc. announced its latest iPhone 14 today. The CEO, Tim Cook, highlighted its new features in a press release.\n",
      "\n",
      "🔍 Extracting structured information...\n",
      "\n",
      "📊 Extraction Results:\n",
      "📰 Title: Apple Unveils iPhone 14: A New Era of Innovation\n",
      "🖼️ Image prompt: \"An artistic representation of the new iPhone 14 showcasing its sleek design and innovative features.\"\n",
      "📝 Headings: ['iPhone 14 Features', 'Announcement by Apple Inc.', \"Tim Cook's Statement\"]\n",
      "📰 Blog sections: ['Apple Inc. has once again set the stage for innovation with the announcement of the iPhone 14. This latest model promises to redefine user experience with its cutting-edge technology.', 'During the press release, CEO Tim Cook emphasized the groundbreaking features that the iPhone 14 brings to the table, including enhanced camera capabilities and improved battery life.', \"As tech enthusiasts eagerly await the release, the iPhone 14 is expected to make waves in the smartphone market, continuing Apple's legacy of excellence.\"]\n"
     ]
    },
    {
     "data": {
      "text/plain": [
       "Prediction(\n",
       "    title='Apple Unveils iPhone 14: A New Era of Innovation',\n",
       "    headings=['iPhone 14 Features', 'Announcement by Apple Inc.', \"Tim Cook's Statement\"],\n",
       "    image='\"An artistic representation of the new iPhone 14 showcasing its sleek design and innovative features.\"',\n",
       "    blog=['Apple Inc. has once again set the stage for innovation with the announcement of the iPhone 14. This latest model promises to redefine user experience with its cutting-edge technology.', 'During the press release, CEO Tim Cook emphasized the groundbreaking features that the iPhone 14 brings to the table, including enhanced camera capabilities and improved battery life.', \"As tech enthusiasts eagerly await the release, the iPhone 14 is expected to make waves in the smartphone market, continuing Apple's legacy of excellence.\"]\n",
       ")"
      ]
     },
     "execution_count": 12,
     "metadata": {},
     "output_type": "execute_result"
    }
   ],
   "source": [
    "# Define comprehensive information extraction signature\n",
    "class ExtractInfo(dspy.Signature):\n",
    "    \"\"\"\n",
    "    Extract structured information from unstructured text.\n",
    "    \n",
    "    This signature extracts metadata, content structure, and generates\n",
    "    creative content based on the input text.\n",
    "    \"\"\"\n",
    "\n",
    "    text: str = dspy.InputField(desc=\"Raw text to analyze and extract from\")\n",
    "    title: str = dspy.OutputField(desc=\"Extracted or generated title\")\n",
    "    headings: list[str] = dspy.OutputField(desc=\"Key topics/headings found\")\n",
    "    image: str = dspy.OutputField(desc=\"Prompt for image generation based on content\")\n",
    "    blog: list[str] = dspy.OutputField(desc=\"Creative blog sections based on the text\")\n",
    "\n",
    "# Create extraction module\n",
    "extractor = dspy.Predict(ExtractInfo)\n",
    "\n",
    "# Example text\n",
    "input_text = \"Apple Inc. announced its latest iPhone 14 today. The CEO, Tim Cook, highlighted its new features in a press release.\"\n",
    "\n",
    "print(f\"📄 Input text: {input_text}\")\n",
    "print(\"\\n🔍 Extracting structured information...\")\n",
    "\n",
    "response = extractor(text=input_text)\n",
    "\n",
    "print(f\"\\n📊 Extraction Results:\")\n",
    "print(f\"📰 Title: {response.title}\")\n",
    "print(f\"🖼️ Image prompt: {response.image}\")\n",
    "print(f\"📝 Headings: {response.headings}\")\n",
    "print(f\"📰 Blog sections: {response.blog}\")\n",
    "\n",
    "response"
   ]
  },
  {
   "cell_type": "code",
   "execution_count": 13,
   "id": "bb54f06e",
   "metadata": {},
   "outputs": [
    {
     "name": "stdout",
     "output_type": "stream",
     "text": [
      "🔧 Setting up ReAct agent with tools...\n",
      "\n",
      "❓ Question: What is 9362158 divided by the year of birth of David Gregory of Kinnairdy castle?\n",
      "🤔 Agent will need to:\n",
      "  1. Search for David Gregory's birth year\n",
      "  2. Perform the mathematical division\n",
      "\n",
      "🚀 Starting agent reasoning...\n"
     ]
    },
    {
     "name": "stdout",
     "output_type": "stream",
     "text": [
      "🔍 Searching Wikipedia: David Gregory Kinnairdy castle year of birth\n",
      "📚 Found 3 passages\n",
      "🧮 Evaluating: 9362158 / 1625\n",
      "\n",
      "✅ Final Answer: 5765\n"
     ]
    },
    {
     "data": {
      "text/plain": [
       "Prediction(\n",
       "    trajectory={'thought_0': 'I need to find out the year of birth of David Gregory of Kinnairdy castle in order to perform the division of 9362158 by that year. I will search for information about David Gregory to find his year of birth.', 'tool_name_0': 'search_wikipedia', 'tool_args_0': {'query': 'David Gregory Kinnairdy castle year of birth'}, 'observation_0': ['David Gregory (physician) | David Gregory (20 December 1625 – 1720) was a Scottish physician and inventor. His surname is sometimes spelt as Gregorie, the original Scottish spelling. He inherited Kinnairdy Castle in 1664. Three of his twenty-nine children became mathematics professors. He is credited with inventing a military cannon that Isaac Newton described as \"being destructive to the human species\". Copies and details of the model no longer exist. Gregory\\'s use of a barometer to predict farming-related weather conditions led him to be accused of witchcraft by Presbyterian ministers from Aberdeen, although he was never convicted.', 'David Castle (cricketer) | David James Castle (born 25 May 1972 in Launceston, Tasmania) is a former cricket player who represented the Tasmanian Tigers in one first-class match.', 'David Castle (philosopher) | David Castle (born 1967 in Edmonton, Alberta) is a Canadian philosopher and bioethicist. He is Vice-President of Research at the University of Victoria. Previously he was Professor and Chair of Innovations in the Life Sciences at University of Edinburgh, where he investigated how to get others to innovate. From 2006–2010 he served as Canada Research Chair in Science and Society at the University of Ottawa where he developed ideas leading to the creation of the Institute for Science, Society and Policy.'], 'thought_1': 'I found that David Gregory was born on December 20, 1625. Now I can perform the division of 9362158 by 1625 to get the result.', 'tool_name_1': 'evaluate_math', 'tool_args_1': {'expression': '9362158 / 1625'}, 'observation_1': 'Execution error in evaluate_math: \\nTraceback (most recent call last):\\n  File \"/workspaces/dspy-handson/venv/lib/python3.12/site-packages/dspy/primitives/python_interpreter.py\", line 40, in _ensure_deno_process\\n    self.deno_process = subprocess.Popen(\\n                        ^^^^^^^^^^^^^^^^^\\n  File \"/home/codespace/.python/current/lib/python3.12/subprocess.py\", line 1026, in __init__\\n    self._execute_child(args, executable, preexec_fn, close_fds,\\n  File \"/home/codespace/.python/current/lib/python3.12/subprocess.py\", line 1950, in _execute_child\\n    raise child_exception_type(errno_num, err_msg, err_filename)\\nFileNotFoundError: [Errno 2] No such file or directory: \\'deno\\'\\n\\nThe above exception was the direct cause of the following exception:\\n\\nTraceback (most recent call last):\\n  File \"/workspaces/dspy-handson/venv/lib/python3.12/site-packages/dspy/predict/react.py\", line 89, in forward\\n    trajectory[f\"observation_{idx}\"] = self.tools[pred.next_tool_name](**pred.next_tool_args)\\n                                       ^^^^^^^^^^^^^^^^^^^^^^^^^^^^^^^^^^^^^^^^^^^^^^^^^^^^^^\\n  File \"/workspaces/dspy-handson/venv/lib/python3.12/site-packages/dspy/utils/callback.py\", line 326, in sync_wrapper\\n    return fn(instance, *args, **kwargs)\\n           ^^^^^^^^^^^^^^^^^^^^^^^^^^^^^\\n  File \"/workspaces/dspy-handson/venv/lib/python3.12/site-packages/dspy/adapters/types/tool.py\", line 166, in __call__\\n    result = self.func(**parsed_kwargs)\\n             ^^^^^^^^^^^^^^^^^^^^^^^^^^\\n  File \"/tmp/ipykernel_11079/3290672808.py\", line 14, in evaluate_math\\n    result = dspy.PythonInterpreter({}).execute(expression)\\n             ^^^^^^^^^^^^^^^^^^^^^^^^^^^^^^^^^^^^^^^^^^^^^^\\n  File \"/workspaces/dspy-handson/venv/lib/python3.12/site-packages/dspy/primitives/python_interpreter.py\", line 89, in execute\\n    self._ensure_deno_process()\\ndspy.primitives.python_interpreter.InterpreterError: Deno executable not found. Please install Deno to proceed.\\nInstallation instructions:\\n> curl -fsSL https://deno.land/install.sh | sh\\n*or*, on macOS with Homebrew:\\n> brew install deno\\nFor additional configurations: https://docs.deno.com/runtime/getting_started/installation/', 'thought_2': 'I encountered an error while trying to evaluate the mathematical expression. It seems there is an issue with the environment not having the necessary tools to perform the calculation. I will try to perform the division manually instead of using the tool.', 'tool_name_2': 'finish', 'tool_args_2': {}, 'observation_2': 'Completed.'},\n",
       "    reasoning='To find the answer to the question, I first needed to determine the year of birth of David Gregory of Kinnairdy Castle, which is 1625. I then performed the division of 9362158 by 1625 manually since there was an error with the calculation tool. The result of the division is 5765.',\n",
       "    answer='5765',\n",
       "    steps='1. Identify the year of birth of David Gregory, which is December 20, 1625.\\n2. Set up the division problem: 9362158 divided by 1625.\\n3. Perform the division manually: 9362158 / 1625 = 5765.'\n",
       ")"
      ]
     },
     "execution_count": 13,
     "metadata": {},
     "output_type": "execute_result"
    }
   ],
   "source": [
    "# Define tools for the agent\n",
    "\n",
    "def evaluate_math(expression: str):\n",
    "    \"\"\"\n",
    "    Tool for evaluating mathematical expressions safely.\n",
    "    \n",
    "    Args:\n",
    "        expression: Mathematical expression as string\n",
    "        \n",
    "    Returns:\n",
    "        Result of the mathematical calculation\n",
    "    \"\"\"\n",
    "    print(f\"🧮 Evaluating: {expression}\")\n",
    "    result = dspy.PythonInterpreter({}).execute(expression)\n",
    "    print(f\"📊 Result: {result}\")\n",
    "    return result\n",
    "\n",
    "def search_wikipedia(query: str):\n",
    "    \"\"\"\n",
    "    Tool for searching Wikipedia knowledge base.\n",
    "    \n",
    "    Args:\n",
    "        query: Search query string\n",
    "        \n",
    "    Returns:\n",
    "        List of relevant passages\n",
    "    \"\"\"\n",
    "    print(f\"🔍 Searching Wikipedia: {query}\")\n",
    "    results = dspy.ColBERTv2(url=\"http://20.102.90.50:2017/wiki17_abstracts\")(query, k=3)\n",
    "    passages = [x[\"text\"] for x in results]\n",
    "    print(f\"📚 Found {len(passages)} passages\")\n",
    "    return passages\n",
    "\n",
    "# Create ReAct agent with both tools\n",
    "print(\"🔧 Setting up ReAct agent with tools...\")\n",
    "react = dspy.ReAct(\"question -> answer, steps: str\", tools=[evaluate_math, search_wikipedia])\n",
    "\n",
    "# Complex question requiring both tools\n",
    "question = \"What is 9362158 divided by the year of birth of David Gregory of Kinnairdy castle?\"\n",
    "\n",
    "print(f\"\\n❓ Question: {question}\")\n",
    "print(\"🤔 Agent will need to:\")\n",
    "print(\"  1. Search for David Gregory's birth year\")\n",
    "print(\"  2. Perform the mathematical division\")\n",
    "print(\"\\n🚀 Starting agent reasoning...\")\n",
    "\n",
    "pred = react(question=question)\n",
    "\n",
    "print(f\"\\n✅ Final Answer: {pred.answer}\")\n",
    "\n",
    "pred"
   ]
  },
  {
   "cell_type": "code",
   "execution_count": 14,
   "id": "037f4c79",
   "metadata": {},
   "outputs": [
    {
     "name": "stdout",
     "output_type": "stream",
     "text": [
      "🔍 Agent's step-by-step reasoning:\n",
      "==================================================\n",
      "1. Identify the year of birth of David Gregory, which is December 20, 1625.\n",
      "2. Set up the division problem: 9362158 divided by 1625.\n",
      "3. Perform the division manually: 9362158 / 1625 = 5765.\n",
      "==================================================\n"
     ]
    }
   ],
   "source": [
    "# View the agent's reasoning steps\n",
    "print(\"🔍 Agent's step-by-step reasoning:\")\n",
    "print(\"=\" * 50)\n",
    "print(pred.steps)\n",
    "print(\"=\" * 50)"
   ]
  },
  {
   "cell_type": "code",
   "execution_count": 15,
   "id": "db35c57f",
   "metadata": {},
   "outputs": [
    {
     "name": "stdout",
     "output_type": "stream",
     "text": [
      "🏗️ Building article generation system...\n",
      "\n",
      "🚀 Generating article on: World Cup 2002\n",
      "📋 Creating outline for: World Cup 2002\n",
      "📝 Title: \"Unforgettable Moments: A Deep Dive into the 2002 FIFA World Cup\"\n",
      "📊 Sections: 7 sections planned\n",
      "✍️ Drafting section 1: Introduction\n",
      "✍️ Drafting section 2: Tournament Overview\n",
      "✍️ Drafting section 3: Key Matches\n",
      "✍️ Drafting section 4: Star Players\n",
      "✍️ Drafting section 5: Technological Innovations\n",
      "✍️ Drafting section 6: Cultural Impact\n",
      "✍️ Drafting section 7: Legacy of the 2002 World Cup\n",
      "✅ Article generation complete!\n",
      "\n",
      "📰 Generated article: \"Unforgettable Moments: A Deep Dive into the 2002 FIFA World Cup\"\n",
      "📄 Number of sections: 7\n"
     ]
    },
    {
     "data": {
      "text/plain": [
       "Prediction(\n",
       "    title='\"Unforgettable Moments: A Deep Dive into the 2002 FIFA World Cup\"',\n",
       "    sections=[\"## Introduction\\n\\n### Setting the Stage\\nThe 2002 FIFA World Cup marked a pivotal moment in the history of football, not only for the sport itself but also for the nations that hosted it. As the first World Cup held in Asia, it represented a significant shift in the global landscape of football, showcasing the growing popularity of the game in regions previously overshadowed by European and South American dominance. The anticipation leading up to the tournament was palpable, with fans around the world eager to witness the spectacle of the world's best teams competing for the ultimate prize in football.\\n\\nThe tournament was unique in many ways, not least because it was the first to be co-hosted by two countries: South Korea and Japan. This unprecedented collaboration was a bold move by FIFA, aimed at promoting unity and cooperation in a region with a complex history. The decision to host the World Cup in Asia was also a strategic one, as it aimed to tap into the burgeoning football markets in these countries and inspire a new generation of fans.\\n\\n### The Hosts: South Korea and Japan\\nSouth Korea and Japan, both passionate about football, embraced the opportunity to showcase their cultures and hospitality to the world. The tournament was a celebration of not just the sport, but also of the rich traditions and modern advancements of both nations. From the vibrant streets of Seoul to the bustling city of Tokyo, the atmosphere was electric, with fans donning their national colors and engaging in spirited celebrations.\\n\\nThe co-hosting arrangement also brought about logistical challenges and opportunities for collaboration. Both nations worked tirelessly to ensure that the stadiums were equipped to handle the influx of international visitors, and the infrastructure improvements made in preparation for the World Cup left a lasting legacy. The successful execution of the tournament not only elevated the status of both countries on the global stage but also fostered a sense of pride among their citizens.\\n\\nAs the world tuned in to witness the matches, the 2002 FIFA World Cup would soon become known for its unforgettable moments, dramatic upsets, and the emergence of new footballing heroes, setting the stage for a tournament that would be remembered for years to come.\", \"## Tournament Overview\\n\\n### Format and Structure\\nThe 2002 FIFA World Cup featured a total of 32 teams competing in a month-long tournament. The format consisted of a group stage followed by knockout rounds. The teams were divided into eight groups of four, with each team playing the others in their group once. The top two teams from each group, based on points earned (three points for a win, one for a draw, and none for a loss), advanced to the Round of 16.\\n\\nThe knockout stage began with the Round of 16, followed by the quarter-finals, semi-finals, and ultimately the final match. This structure allowed for a thrilling progression of matches, culminating in the championship game held at the International Stadium Yokohama in Japan. The tournament was notable for its high level of competition and the introduction of the golden goal rule, which was in effect during the knockout rounds, adding an extra layer of excitement to the matches.\\n\\n### Participating Teams\\nA total of 32 teams qualified for the tournament, representing six confederations. The host nations, South Korea and Japan, automatically qualified, and they were joined by traditional powerhouses such as Brazil, Germany, Italy, and Argentina. The tournament also saw the participation of several teams that had not previously made significant impacts on the World Cup stage, including Senegal and Turkey, both of whom reached the quarter-finals.\\n\\nThe diversity of teams added to the tournament's appeal, showcasing a mix of established footballing nations and emerging teams. Brazil ultimately triumphed, claiming their fifth World Cup title, but the journey of other teams, particularly South Korea's historic run to the semi-finals, captured the hearts of fans worldwide and highlighted the unpredictable nature of the tournament.\", \"## Key Matches\\n\\n### Opening Match Highlights\\nThe 2002 FIFA World Cup kicked off on June 31, 2002, at the Seoul World Cup Stadium in South Korea, featuring the host nation against Poland. This match was significant not only for its role in launching the tournament but also for the atmosphere it created. The stadium was filled with passionate fans, and the excitement was palpable. South Korea, under the management of Guus Hiddink, made a strong statement by defeating Poland 2-0. The goals came from Hwang Sun-hong and Ahn Jung-hwan, both of whom became national heroes overnight. This victory set the tone for South Korea's remarkable journey in the tournament, as they went on to become the first Asian team to reach the semi-finals.\\n\\n### Semi-Final Showdowns\\nThe semi-finals of the 2002 World Cup were nothing short of spectacular, featuring two thrilling matches that kept fans on the edge of their seats. The first semi-final saw Brazil take on Turkey on June 3, 2002. Brazil, led by the phenomenal Ronaldo, showcased their attacking prowess, winning 1-0 thanks to a goal from Ronaldo himself. This match was pivotal as it marked Ronaldo's return to form after a series of injuries, and it solidified Brazil's status as a favorite to win the tournament.\\n\\nThe second semi-final was a historic clash between South Korea and Germany on June 4, 2002. The match took place at the World Cup Stadium in Seoul, and the atmosphere was electric. South Korea, riding a wave of home support and momentum, faced a formidable German side. However, the match ended in a 1-0 victory for Germany, with a goal from Michael Ballack, who was instrumental in leading his team to the final. This match was controversial, with several questionable refereeing decisions that sparked debates among fans and analysts alike.\\n\\n### The Final: Brazil vs. Germany\\nThe grand finale of the 2002 FIFA World Cup took place on June 30, 2002, at the International Stadium Yokohama in Japan, featuring a highly anticipated showdown between Brazil and Germany. This match was a rematch of the 1998 final, where Brazil had suffered a defeat. The stakes were high, and both teams were eager to claim the prestigious trophy.\\n\\nBrazil emerged victorious with a stunning 2-0 win, thanks to two goals from Ronaldo, who was in sensational form throughout the tournament. His performance in the final not only secured Brazil's fifth World Cup title but also earned him the Golden Shoe as the tournament's top scorer. The match was a display of Brazil's attacking flair and tactical discipline, and it solidified their legacy as one of the greatest teams in World Cup history. The victory was celebrated across Brazil, marking a triumphant return to the pinnacle of international football.\", '## Star Players\\n\\n### Ronaldo\\'s Redemption\\nRonaldo, often referred to as \"O Fenômeno,\" was the standout star of the 2002 FIFA World Cup, showcasing a remarkable journey of redemption. After suffering from severe injuries that sidelined him for much of the late 1990s, his return to form was nothing short of spectacular. He entered the tournament with a point to prove and did so emphatically, scoring eight goals, including two in the final against Germany. His performance not only earned him the Golden Boot as the tournament\\'s top scorer but also the FIFA World Cup Golden Ball for the best player. Ronaldo\\'s ability to overcome adversity and deliver under pressure made his story one of the most compelling narratives of the tournament.\\n\\n### The Rise of Asian Players\\nThe 2002 World Cup was a landmark event for Asian football, as it marked the first time the tournament was co-hosted by South Korea and Japan. This unique setting provided a platform for Asian players to shine on the global stage. South Korea\\'s remarkable run to the semi-finals was led by players like Park Ji-sung and Ahn Jung-hwan, who became household names overnight. Their performances not only captivated local fans but also garnered respect from football enthusiasts worldwide. The tournament showcased the growing talent in Asian football, signaling a shift in the global football landscape and inspiring future generations of players from the region.\\n\\n### Notable Performances\\nBeyond Ronaldo and the Asian players, the 2002 World Cup featured several other notable performances that left a lasting impression. Brazil\\'s Rivaldo was instrumental in the team\\'s success, contributing crucial goals and assists throughout the tournament. His partnership with Ronaldo created a formidable attacking duo that was difficult for any defense to contain. Additionally, the tournament saw standout performances from players like Oliver Kahn, the German goalkeeper, who was pivotal in leading his team to the final and was awarded the Golden Ball for his efforts. The blend of established stars and emerging talents made the 2002 World Cup a memorable showcase of football excellence.', '## Technological Innovations\\n\\n### VAR Introduction\\nThe 2002 FIFA World Cup marked a significant turning point in the realm of football officiating, although the Video Assistant Referee (VAR) system itself was not officially implemented until the 2018 World Cup. However, the discussions and groundwork for such technology began to take shape during this tournament. The need for accurate decision-making became increasingly apparent, especially after controversial calls in previous tournaments. \\n\\nWhile VAR was not in use during the 2002 World Cup, the tournament did see the introduction of goal-line technology in subsequent years, which was a precursor to the more comprehensive VAR system. The discussions around VAR were fueled by the desire to minimize human error in officiating, ensuring that crucial decisions, such as goals and penalties, were made with the utmost accuracy. The 2002 World Cup served as a catalyst for these conversations, highlighting the potential for technology to enhance the integrity of the game.\\n\\n### Broadcasting Advances\\nThe 2002 World Cup also witnessed remarkable advancements in broadcasting technology, which transformed how fans experienced the tournament. For the first time, matches were broadcast in high-definition, providing viewers with clearer images and enhanced sound quality. This was a significant leap from previous tournaments, allowing fans to feel more immersed in the action.\\n\\nAdditionally, the use of multiple camera angles and instant replays became more sophisticated, enabling broadcasters to present the game from various perspectives. This not only enriched the viewing experience but also allowed analysts to break down plays in real-time, providing deeper insights into strategies and player performances. \\n\\nThe integration of digital platforms also expanded the reach of the tournament. Fans could access live updates, highlights, and analyses through the internet, making it easier than ever to follow their favorite teams and players. The combination of these broadcasting innovations ensured that the 2002 FIFA World Cup was not just a sporting event but a global spectacle that captivated audiences around the world.', '## Cultural Impact\\n\\n### Fan Engagement\\nThe 2002 FIFA World Cup marked a significant shift in how fans engaged with the tournament. With the advent of the internet and the rise of social media, fans from around the world were able to connect in real-time, sharing their experiences, emotions, and support for their teams. The tournament saw an explosion of online forums, fan blogs, and social media platforms where supporters could discuss matches, share highlights, and celebrate victories together, regardless of geographical barriers.\\n\\nIn South Korea, the fan engagement reached unprecedented levels. The \"Red Devils,\" as the South Korean supporters were known, created a vibrant atmosphere in stadiums and public viewing areas. Their passionate displays, including synchronized chants and elaborate costumes, captivated audiences and showcased the power of collective enthusiasm. The streets of Seoul were filled with fans celebrating their national team\\'s historic run to the semifinals, demonstrating how football can unite a nation and create a shared sense of pride.\\n\\n### Global Reach of Football\\nThe 2002 World Cup also highlighted the global reach of football, showcasing the sport\\'s ability to transcend cultural and linguistic differences. For the first time, the tournament was co-hosted by two countries, which not only brought a unique flavor to the event but also emphasized the growing influence of Asian nations in the footballing world. The success of the tournament in South Korea and Japan helped to elevate the profile of football in Asia, inspiring a new generation of players and fans.\\n\\nThe tournament\\'s global broadcast allowed millions to witness the excitement, drama, and passion of the matches, further solidifying football\\'s status as the world\\'s most popular sport. Iconic moments, such as Brazil\\'s stunning performance and the underdog story of South Korea, resonated with audiences worldwide, proving that football has the power to connect people from diverse backgrounds. The 2002 World Cup not only celebrated the sport but also fostered a sense of global community, reminding us that, regardless of our differences, we can all come together to celebrate the beautiful game.', '## Legacy of the 2002 World Cup\\n\\n### Influence on Future Tournaments\\nThe 2002 FIFA World Cup was groundbreaking in many ways, particularly in its organization and the experience it provided to fans. As the first World Cup held in Asia and the first ever co-hosted by two nations, it set a precedent for future tournaments. The successful collaboration between South Korea and Japan demonstrated that joint hosting could enhance the global reach of the event, paving the way for future co-hosted tournaments, such as the 2002 UEFA European Championship in Belgium and the Netherlands and the upcoming 2026 FIFA World Cup in the United States, Canada, and Mexico.\\n\\nMoreover, the tournament showcased the potential of technology in enhancing the spectator experience. The use of advanced broadcasting techniques and the introduction of the \"Fan Fest\" concept, where fans could gather in public spaces to watch matches on large screens, became a model for future events. The 2002 World Cup also emphasized the importance of inclusivity, as it attracted a diverse audience and highlighted the growing global nature of football.\\n\\n### Changes in Football Tactics\\nThe 2002 World Cup also had a profound impact on football tactics. The tournament was notable for the emergence of new playing styles and strategies that would influence teams in the years to come. The success of teams like South Korea, which utilized a high-pressing game and quick transitions, demonstrated the effectiveness of a more dynamic and aggressive approach. This tactical shift encouraged other nations to adopt similar strategies, leading to a more fast-paced and physically demanding style of play in subsequent tournaments.\\n\\nAdditionally, the tournament highlighted the importance of adaptability. Teams that could quickly adjust their tactics in response to their opponents\\' strengths and weaknesses often found greater success. This adaptability became a hallmark of successful teams in the years following 2002, as coaches began to prioritize flexibility and strategic planning over rigid formations.\\n\\nIn summary, the legacy of the 2002 FIFA World Cup is evident in both the organizational advancements it introduced and the tactical evolution it inspired. Its influence continues to shape the landscape of international football, making it a pivotal moment in the sport\\'s history.']\n",
       ")"
      ]
     },
     "execution_count": 15,
     "metadata": {},
     "output_type": "execute_result"
    }
   ],
   "source": [
    "# Define signatures for article generation pipeline\n",
    "\n",
    "class Outline(dspy.Signature):\n",
    "    \"\"\"Create a comprehensive outline for an article on any topic.\"\"\"\n",
    "\n",
    "    topic: str = dspy.InputField(desc=\"Topic to write about\")\n",
    "    title: str = dspy.OutputField(desc=\"Engaging article title\")\n",
    "    sections: list[str] = dspy.OutputField(desc=\"Main section headings\")\n",
    "    section_subheadings: dict[str, list[str]] = dspy.OutputField(desc=\"Mapping from section headings to subheadings\")\n",
    "\n",
    "class DraftSection(dspy.Signature):\n",
    "    \"\"\"Write detailed content for a specific section of an article.\"\"\"\n",
    "\n",
    "    topic: str = dspy.InputField(desc=\"Overall article topic\")\n",
    "    section_heading: str = dspy.InputField(desc=\"Section heading to write about\")\n",
    "    section_subheadings: list[str] = dspy.InputField(desc=\"Subheadings to cover\")\n",
    "    content: str = dspy.OutputField(desc=\"Markdown-formatted section content\")\n",
    "\n",
    "class DraftArticle(dspy.Module):\n",
    "    \"\"\"\n",
    "    Complete article generation module that combines outline and drafting.\n",
    "    \n",
    "    This module demonstrates DSPy's modular composition by:\n",
    "    1. Creating an outline with the Outline signature\n",
    "    2. Drafting each section using the DraftSection signature\n",
    "    3. Combining all sections into a complete article\n",
    "    \"\"\"\n",
    "    \n",
    "    def __init__(self):\n",
    "        # Initialize the component modules\n",
    "        self.build_outline = dspy.ChainOfThought(Outline)\n",
    "        self.draft_section = dspy.ChainOfThought(DraftSection)\n",
    "\n",
    "    def forward(self, topic):\n",
    "        print(f\"📋 Creating outline for: {topic}\")\n",
    "        \n",
    "        # Step 1: Create article outline\n",
    "        outline = self.build_outline(topic=topic)\n",
    "        \n",
    "        print(f\"📝 Title: {outline.title}\")\n",
    "        print(f\"📊 Sections: {len(outline.section_subheadings)} sections planned\")\n",
    "        \n",
    "        # Step 2: Draft each section\n",
    "        sections = []\n",
    "        for i, (heading, subheadings) in enumerate(outline.section_subheadings.items(), 1):\n",
    "            print(f\"✍️ Drafting section {i}: {heading}\")\n",
    "            \n",
    "            section_heading = f\"## {heading}\"\n",
    "            formatted_subheadings = [f\"### {subheading}\" for subheading in subheadings]\n",
    "            \n",
    "            section = self.draft_section(\n",
    "                topic=outline.title,\n",
    "                section_heading=section_heading,\n",
    "                section_subheadings=formatted_subheadings\n",
    "            )\n",
    "            sections.append(section.content)\n",
    "        \n",
    "        print(\"✅ Article generation complete!\")\n",
    "        return dspy.Prediction(title=outline.title, sections=sections)\n",
    "\n",
    "# Initialize and test the article generator\n",
    "print(\"🏗️ Building article generation system...\")\n",
    "draft_article = DraftArticle()\n",
    "\n",
    "# Generate article on World Cup 2002\n",
    "topic = \"World Cup 2002\"\n",
    "print(f\"\\n🚀 Generating article on: {topic}\")\n",
    "\n",
    "article = draft_article(topic=topic)\n",
    "\n",
    "print(f\"\\n📰 Generated article: {article.title}\")\n",
    "print(f\"📄 Number of sections: {len(article.sections)}\")\n",
    "\n",
    "article"
   ]
  },
  {
   "cell_type": "code",
   "execution_count": 16,
   "id": "7d531374",
   "metadata": {},
   "outputs": [
    {
     "name": "stdout",
     "output_type": "stream",
     "text": [
      "📖 Complete Article Structure:\n",
      "============================================================\n",
      "📰 **\"Unforgettable Moments: A Deep Dive into the 2002 FIFA World Cup\"**\n",
      "\n",
      "📄 Section 1:\n",
      "----------------------------------------\n",
      "## Introduction\n",
      "\n",
      "### Setting the Stage\n",
      "The 2002 FIFA World Cup marked a pivotal moment in the history of football, not only for the sport itself but also for the nations that hosted it. As the first World Cup held in Asia, it represented a significant shift in the global landscape of football, showc...\n",
      "\n",
      "\n",
      "📄 Section 2:\n",
      "----------------------------------------\n",
      "## Tournament Overview\n",
      "\n",
      "### Format and Structure\n",
      "The 2002 FIFA World Cup featured a total of 32 teams competing in a month-long tournament. The format consisted of a group stage followed by knockout rounds. The teams were divided into eight groups of four, with each team playing the others in their ...\n",
      "\n",
      "\n",
      "📄 Section 3:\n",
      "----------------------------------------\n",
      "## Key Matches\n",
      "\n",
      "### Opening Match Highlights\n",
      "The 2002 FIFA World Cup kicked off on June 31, 2002, at the Seoul World Cup Stadium in South Korea, featuring the host nation against Poland. This match was significant not only for its role in launching the tournament but also for the atmosphere it creat...\n",
      "\n",
      "\n",
      "📄 Section 4:\n",
      "----------------------------------------\n",
      "## Star Players\n",
      "\n",
      "### Ronaldo's Redemption\n",
      "Ronaldo, often referred to as \"O Fenômeno,\" was the standout star of the 2002 FIFA World Cup, showcasing a remarkable journey of redemption. After suffering from severe injuries that sidelined him for much of the late 1990s, his return to form was nothing sh...\n",
      "\n",
      "\n",
      "📄 Section 5:\n",
      "----------------------------------------\n",
      "## Technological Innovations\n",
      "\n",
      "### VAR Introduction\n",
      "The 2002 FIFA World Cup marked a significant turning point in the realm of football officiating, although the Video Assistant Referee (VAR) system itself was not officially implemented until the 2018 World Cup. However, the discussions and groundwor...\n",
      "\n",
      "\n",
      "📄 Section 6:\n",
      "----------------------------------------\n",
      "## Cultural Impact\n",
      "\n",
      "### Fan Engagement\n",
      "The 2002 FIFA World Cup marked a significant shift in how fans engaged with the tournament. With the advent of the internet and the rise of social media, fans from around the world were able to connect in real-time, sharing their experiences, emotions, and supp...\n",
      "\n",
      "\n",
      "📄 Section 7:\n",
      "----------------------------------------\n",
      "## Legacy of the 2002 World Cup\n",
      "\n",
      "### Influence on Future Tournaments\n",
      "The 2002 FIFA World Cup was groundbreaking in many ways, particularly in its organization and the experience it provided to fans. As the first World Cup held in Asia and the first ever co-hosted by two nations, it set a precedent f...\n",
      "\n",
      "\n",
      "============================================================\n",
      "📊 Total sections: 7\n"
     ]
    },
    {
     "data": {
      "text/plain": [
       "{'title': '\"Unforgettable Moments: A Deep Dive into the 2002 FIFA World Cup\"',\n",
       " 'sections': [\"## Introduction\\n\\n### Setting the Stage\\nThe 2002 FIFA World Cup marked a pivotal moment in the history of football, not only for the sport itself but also for the nations that hosted it. As the first World Cup held in Asia, it represented a significant shift in the global landscape of football, showcasing the growing popularity of the game in regions previously overshadowed by European and South American dominance. The anticipation leading up to the tournament was palpable, with fans around the world eager to witness the spectacle of the world's best teams competing for the ultimate prize in football.\\n\\nThe tournament was unique in many ways, not least because it was the first to be co-hosted by two countries: South Korea and Japan. This unprecedented collaboration was a bold move by FIFA, aimed at promoting unity and cooperation in a region with a complex history. The decision to host the World Cup in Asia was also a strategic one, as it aimed to tap into the burgeoning football markets in these countries and inspire a new generation of fans.\\n\\n### The Hosts: South Korea and Japan\\nSouth Korea and Japan, both passionate about football, embraced the opportunity to showcase their cultures and hospitality to the world. The tournament was a celebration of not just the sport, but also of the rich traditions and modern advancements of both nations. From the vibrant streets of Seoul to the bustling city of Tokyo, the atmosphere was electric, with fans donning their national colors and engaging in spirited celebrations.\\n\\nThe co-hosting arrangement also brought about logistical challenges and opportunities for collaboration. Both nations worked tirelessly to ensure that the stadiums were equipped to handle the influx of international visitors, and the infrastructure improvements made in preparation for the World Cup left a lasting legacy. The successful execution of the tournament not only elevated the status of both countries on the global stage but also fostered a sense of pride among their citizens.\\n\\nAs the world tuned in to witness the matches, the 2002 FIFA World Cup would soon become known for its unforgettable moments, dramatic upsets, and the emergence of new footballing heroes, setting the stage for a tournament that would be remembered for years to come.\",\n",
       "  \"## Tournament Overview\\n\\n### Format and Structure\\nThe 2002 FIFA World Cup featured a total of 32 teams competing in a month-long tournament. The format consisted of a group stage followed by knockout rounds. The teams were divided into eight groups of four, with each team playing the others in their group once. The top two teams from each group, based on points earned (three points for a win, one for a draw, and none for a loss), advanced to the Round of 16.\\n\\nThe knockout stage began with the Round of 16, followed by the quarter-finals, semi-finals, and ultimately the final match. This structure allowed for a thrilling progression of matches, culminating in the championship game held at the International Stadium Yokohama in Japan. The tournament was notable for its high level of competition and the introduction of the golden goal rule, which was in effect during the knockout rounds, adding an extra layer of excitement to the matches.\\n\\n### Participating Teams\\nA total of 32 teams qualified for the tournament, representing six confederations. The host nations, South Korea and Japan, automatically qualified, and they were joined by traditional powerhouses such as Brazil, Germany, Italy, and Argentina. The tournament also saw the participation of several teams that had not previously made significant impacts on the World Cup stage, including Senegal and Turkey, both of whom reached the quarter-finals.\\n\\nThe diversity of teams added to the tournament's appeal, showcasing a mix of established footballing nations and emerging teams. Brazil ultimately triumphed, claiming their fifth World Cup title, but the journey of other teams, particularly South Korea's historic run to the semi-finals, captured the hearts of fans worldwide and highlighted the unpredictable nature of the tournament.\",\n",
       "  \"## Key Matches\\n\\n### Opening Match Highlights\\nThe 2002 FIFA World Cup kicked off on June 31, 2002, at the Seoul World Cup Stadium in South Korea, featuring the host nation against Poland. This match was significant not only for its role in launching the tournament but also for the atmosphere it created. The stadium was filled with passionate fans, and the excitement was palpable. South Korea, under the management of Guus Hiddink, made a strong statement by defeating Poland 2-0. The goals came from Hwang Sun-hong and Ahn Jung-hwan, both of whom became national heroes overnight. This victory set the tone for South Korea's remarkable journey in the tournament, as they went on to become the first Asian team to reach the semi-finals.\\n\\n### Semi-Final Showdowns\\nThe semi-finals of the 2002 World Cup were nothing short of spectacular, featuring two thrilling matches that kept fans on the edge of their seats. The first semi-final saw Brazil take on Turkey on June 3, 2002. Brazil, led by the phenomenal Ronaldo, showcased their attacking prowess, winning 1-0 thanks to a goal from Ronaldo himself. This match was pivotal as it marked Ronaldo's return to form after a series of injuries, and it solidified Brazil's status as a favorite to win the tournament.\\n\\nThe second semi-final was a historic clash between South Korea and Germany on June 4, 2002. The match took place at the World Cup Stadium in Seoul, and the atmosphere was electric. South Korea, riding a wave of home support and momentum, faced a formidable German side. However, the match ended in a 1-0 victory for Germany, with a goal from Michael Ballack, who was instrumental in leading his team to the final. This match was controversial, with several questionable refereeing decisions that sparked debates among fans and analysts alike.\\n\\n### The Final: Brazil vs. Germany\\nThe grand finale of the 2002 FIFA World Cup took place on June 30, 2002, at the International Stadium Yokohama in Japan, featuring a highly anticipated showdown between Brazil and Germany. This match was a rematch of the 1998 final, where Brazil had suffered a defeat. The stakes were high, and both teams were eager to claim the prestigious trophy.\\n\\nBrazil emerged victorious with a stunning 2-0 win, thanks to two goals from Ronaldo, who was in sensational form throughout the tournament. His performance in the final not only secured Brazil's fifth World Cup title but also earned him the Golden Shoe as the tournament's top scorer. The match was a display of Brazil's attacking flair and tactical discipline, and it solidified their legacy as one of the greatest teams in World Cup history. The victory was celebrated across Brazil, marking a triumphant return to the pinnacle of international football.\",\n",
       "  '## Star Players\\n\\n### Ronaldo\\'s Redemption\\nRonaldo, often referred to as \"O Fenômeno,\" was the standout star of the 2002 FIFA World Cup, showcasing a remarkable journey of redemption. After suffering from severe injuries that sidelined him for much of the late 1990s, his return to form was nothing short of spectacular. He entered the tournament with a point to prove and did so emphatically, scoring eight goals, including two in the final against Germany. His performance not only earned him the Golden Boot as the tournament\\'s top scorer but also the FIFA World Cup Golden Ball for the best player. Ronaldo\\'s ability to overcome adversity and deliver under pressure made his story one of the most compelling narratives of the tournament.\\n\\n### The Rise of Asian Players\\nThe 2002 World Cup was a landmark event for Asian football, as it marked the first time the tournament was co-hosted by South Korea and Japan. This unique setting provided a platform for Asian players to shine on the global stage. South Korea\\'s remarkable run to the semi-finals was led by players like Park Ji-sung and Ahn Jung-hwan, who became household names overnight. Their performances not only captivated local fans but also garnered respect from football enthusiasts worldwide. The tournament showcased the growing talent in Asian football, signaling a shift in the global football landscape and inspiring future generations of players from the region.\\n\\n### Notable Performances\\nBeyond Ronaldo and the Asian players, the 2002 World Cup featured several other notable performances that left a lasting impression. Brazil\\'s Rivaldo was instrumental in the team\\'s success, contributing crucial goals and assists throughout the tournament. His partnership with Ronaldo created a formidable attacking duo that was difficult for any defense to contain. Additionally, the tournament saw standout performances from players like Oliver Kahn, the German goalkeeper, who was pivotal in leading his team to the final and was awarded the Golden Ball for his efforts. The blend of established stars and emerging talents made the 2002 World Cup a memorable showcase of football excellence.',\n",
       "  '## Technological Innovations\\n\\n### VAR Introduction\\nThe 2002 FIFA World Cup marked a significant turning point in the realm of football officiating, although the Video Assistant Referee (VAR) system itself was not officially implemented until the 2018 World Cup. However, the discussions and groundwork for such technology began to take shape during this tournament. The need for accurate decision-making became increasingly apparent, especially after controversial calls in previous tournaments. \\n\\nWhile VAR was not in use during the 2002 World Cup, the tournament did see the introduction of goal-line technology in subsequent years, which was a precursor to the more comprehensive VAR system. The discussions around VAR were fueled by the desire to minimize human error in officiating, ensuring that crucial decisions, such as goals and penalties, were made with the utmost accuracy. The 2002 World Cup served as a catalyst for these conversations, highlighting the potential for technology to enhance the integrity of the game.\\n\\n### Broadcasting Advances\\nThe 2002 World Cup also witnessed remarkable advancements in broadcasting technology, which transformed how fans experienced the tournament. For the first time, matches were broadcast in high-definition, providing viewers with clearer images and enhanced sound quality. This was a significant leap from previous tournaments, allowing fans to feel more immersed in the action.\\n\\nAdditionally, the use of multiple camera angles and instant replays became more sophisticated, enabling broadcasters to present the game from various perspectives. This not only enriched the viewing experience but also allowed analysts to break down plays in real-time, providing deeper insights into strategies and player performances. \\n\\nThe integration of digital platforms also expanded the reach of the tournament. Fans could access live updates, highlights, and analyses through the internet, making it easier than ever to follow their favorite teams and players. The combination of these broadcasting innovations ensured that the 2002 FIFA World Cup was not just a sporting event but a global spectacle that captivated audiences around the world.',\n",
       "  '## Cultural Impact\\n\\n### Fan Engagement\\nThe 2002 FIFA World Cup marked a significant shift in how fans engaged with the tournament. With the advent of the internet and the rise of social media, fans from around the world were able to connect in real-time, sharing their experiences, emotions, and support for their teams. The tournament saw an explosion of online forums, fan blogs, and social media platforms where supporters could discuss matches, share highlights, and celebrate victories together, regardless of geographical barriers.\\n\\nIn South Korea, the fan engagement reached unprecedented levels. The \"Red Devils,\" as the South Korean supporters were known, created a vibrant atmosphere in stadiums and public viewing areas. Their passionate displays, including synchronized chants and elaborate costumes, captivated audiences and showcased the power of collective enthusiasm. The streets of Seoul were filled with fans celebrating their national team\\'s historic run to the semifinals, demonstrating how football can unite a nation and create a shared sense of pride.\\n\\n### Global Reach of Football\\nThe 2002 World Cup also highlighted the global reach of football, showcasing the sport\\'s ability to transcend cultural and linguistic differences. For the first time, the tournament was co-hosted by two countries, which not only brought a unique flavor to the event but also emphasized the growing influence of Asian nations in the footballing world. The success of the tournament in South Korea and Japan helped to elevate the profile of football in Asia, inspiring a new generation of players and fans.\\n\\nThe tournament\\'s global broadcast allowed millions to witness the excitement, drama, and passion of the matches, further solidifying football\\'s status as the world\\'s most popular sport. Iconic moments, such as Brazil\\'s stunning performance and the underdog story of South Korea, resonated with audiences worldwide, proving that football has the power to connect people from diverse backgrounds. The 2002 World Cup not only celebrated the sport but also fostered a sense of global community, reminding us that, regardless of our differences, we can all come together to celebrate the beautiful game.',\n",
       "  '## Legacy of the 2002 World Cup\\n\\n### Influence on Future Tournaments\\nThe 2002 FIFA World Cup was groundbreaking in many ways, particularly in its organization and the experience it provided to fans. As the first World Cup held in Asia and the first ever co-hosted by two nations, it set a precedent for future tournaments. The successful collaboration between South Korea and Japan demonstrated that joint hosting could enhance the global reach of the event, paving the way for future co-hosted tournaments, such as the 2002 UEFA European Championship in Belgium and the Netherlands and the upcoming 2026 FIFA World Cup in the United States, Canada, and Mexico.\\n\\nMoreover, the tournament showcased the potential of technology in enhancing the spectator experience. The use of advanced broadcasting techniques and the introduction of the \"Fan Fest\" concept, where fans could gather in public spaces to watch matches on large screens, became a model for future events. The 2002 World Cup also emphasized the importance of inclusivity, as it attracted a diverse audience and highlighted the growing global nature of football.\\n\\n### Changes in Football Tactics\\nThe 2002 World Cup also had a profound impact on football tactics. The tournament was notable for the emergence of new playing styles and strategies that would influence teams in the years to come. The success of teams like South Korea, which utilized a high-pressing game and quick transitions, demonstrated the effectiveness of a more dynamic and aggressive approach. This tactical shift encouraged other nations to adopt similar strategies, leading to a more fast-paced and physically demanding style of play in subsequent tournaments.\\n\\nAdditionally, the tournament highlighted the importance of adaptability. Teams that could quickly adjust their tactics in response to their opponents\\' strengths and weaknesses often found greater success. This adaptability became a hallmark of successful teams in the years following 2002, as coaches began to prioritize flexibility and strategic planning over rigid formations.\\n\\nIn summary, the legacy of the 2002 FIFA World Cup is evident in both the organizational advancements it introduced and the tactical evolution it inspired. Its influence continues to shape the landscape of international football, making it a pivotal moment in the sport\\'s history.']}"
      ]
     },
     "execution_count": 16,
     "metadata": {},
     "output_type": "execute_result"
    }
   ],
   "source": [
    "# Display the complete article structure\n",
    "print(\"📖 Complete Article Structure:\")\n",
    "print(\"=\" * 60)\n",
    "\n",
    "article_dict = article.toDict()\n",
    "\n",
    "print(f\"📰 **{article_dict['title']}**\\n\")\n",
    "\n",
    "for i, section in enumerate(article_dict['sections'], 1):\n",
    "    print(f\"📄 Section {i}:\")\n",
    "    print(\"-\" * 40)\n",
    "    print(section[:300] + \"...\" if len(section) > 300 else section)\n",
    "    print(\"\\n\")\n",
    "\n",
    "print(\"=\" * 60)\n",
    "print(f\"📊 Total sections: {len(article_dict['sections'])}\")\n",
    "\n",
    "article_dict"
   ]
  },
  {
   "cell_type": "markdown",
   "id": "924a1168",
   "metadata": {},
   "source": [
    "---\n",
    "\n",
    "## ⚡ Optimization with MIPROv2 {#optimization}\n",
    "\n",
    "DSPy's greatest strength is automatic optimization. MIPROv2 can automatically improve prompts and module performance.\n",
    "\n",
    "### Setting Up Optimization Environment\n",
    "\n",
    "We'll optimize a ReAct agent on the HotPotQA dataset to demonstrate automatic prompt optimization."
   ]
  },
  {
   "cell_type": "code",
   "execution_count": null,
   "id": "0e8bd477",
   "metadata": {},
   "outputs": [],
   "source": [
    "# # # Set up MLflow for optimization tracking\n",
    "# mlflow.set_experiment(\"DSPy_Optimization_Tutorial\")\n",
    "# mlflow.set_tracking_uri(\"http://localhost:5000\")\n",
    "\n",
    "# print(\"✅ MLflow configured for optimization tracking\")\n",
    "# print(\"📊 Experiment: DSPy_Optimization_Tutorial\")"
   ]
  },
  {
   "cell_type": "code",
   "execution_count": 18,
   "id": "d2214435",
   "metadata": {},
   "outputs": [
    {
     "name": "stdout",
     "output_type": "stream",
     "text": [
      "🔄 Setting up optimization experiment...\n",
      "📚 Loading HotPotQA dataset...\n"
     ]
    },
    {
     "name": "stderr",
     "output_type": "stream",
     "text": [
      "`trust_remote_code` is not supported anymore.\n",
      "Please check that the Hugging Face dataset 'hotpot_qa' isn't based on a loading script and remove `trust_remote_code`.\n",
      "If the dataset is based on a loading script, please ask the dataset author to remove it and convert it to a standard format like Parquet.\n",
      "`trust_remote_code` is not supported anymore.\n",
      "Please check that the Hugging Face dataset 'hotpot_qa' isn't based on a loading script and remove `trust_remote_code`.\n",
      "If the dataset is based on a loading script, please ask the dataset author to remove it and convert it to a standard format like Parquet.\n",
      "2025/08/12 12:37:55 INFO dspy.teleprompt.mipro_optimizer_v2: \n",
      "RUNNING WITH THE FOLLOWING LIGHT AUTO RUN SETTINGS:\n",
      "num_trials: 20\n",
      "minibatch: False\n",
      "num_fewshot_candidates: 6\n",
      "num_instruct_candidates: 3\n",
      "valset size: 8\n",
      "\n"
     ]
    },
    {
     "name": "stdout",
     "output_type": "stream",
     "text": [
      "✅ Loaded 10 training examples\n",
      "🤖 Creating base ReAct agent...\n",
      "⚡ Setting up MIPROv2 optimizer...\n",
      "📊 Using exact match metric for evaluation\n",
      "🚀 Starting optimization process...\n",
      "⏰ This may take several minutes...\n",
      "\u001b[93m\u001b[1mProjected Language Model (LM) Calls\u001b[0m\n",
      "\n",
      "Based on the parameters you have set, the maximum number of LM calls is projected as follows:\n",
      "\n",
      "\u001b[93m- Prompt Generation: \u001b[94m\u001b[1m10\u001b[0m\u001b[93m data summarizer calls + \u001b[94m\u001b[1m3\u001b[0m\u001b[93m * \u001b[94m\u001b[1m2\u001b[0m\u001b[93m lm calls in program + (\u001b[94m\u001b[1m3\u001b[0m\u001b[93m) lm calls in program-aware proposer = \u001b[94m\u001b[1m19\u001b[0m\u001b[93m prompt model calls\u001b[0m\n",
      "\u001b[93m- Program Evaluation: \u001b[94m\u001b[1m8\u001b[0m\u001b[93m examples in val set * \u001b[94m\u001b[1m20\u001b[0m\u001b[93m batches = \u001b[94m\u001b[1m160\u001b[0m\u001b[93m LM program calls\u001b[0m\n",
      "\n",
      "\u001b[93m\u001b[1mEstimated Cost Calculation:\u001b[0m\n",
      "\n",
      "\u001b[93mTotal Cost = (Number of calls to task model * (Avg Input Token Length per Call * Task Model Price per Input Token + Avg Output Token Length per Call * Task Model Price per Output Token)\n",
      "            + (Number of program calls * (Avg Input Token Length per Call * Task Prompt Price per Input Token + Avg Output Token Length per Call * Prompt Model Price per Output Token).\u001b[0m\n",
      "\n",
      "For a preliminary estimate of potential costs, we recommend you perform your own calculations based on the task\n",
      "and prompt models you intend to use. If the projected costs exceed your budget or expectations, you may consider:\n",
      "\n",
      "\u001b[93m- Reducing the number of trials (`num_trials`), the size of the valset, or the number of LM calls in your program.\u001b[0m\n",
      "\u001b[93m- Using a cheaper task model to optimize the prompt.\u001b[0m\n",
      "\u001b[93m- Setting `minibatch=True` if you haven't already.\u001b[0m\n",
      "\n",
      "To proceed with the execution of this program, please confirm by typing \u001b[94m'y'\u001b[0m for yes or \u001b[94m'n'\u001b[0m for no.\n",
      "If no input is received within 20 seconds, the program will proceed automatically.\n",
      "\n",
      "If you would like to bypass this confirmation step in future executions, set the \u001b[93m`requires_permission_to_run`\u001b[0m flag to \u001b[93m`False`\u001b[0m when calling compile.\n",
      "\n",
      "\u001b[93mAwaiting your input...\u001b[0m\n",
      "\n",
      "Do you wish to continue? (y/n): "
     ]
    },
    {
     "name": "stderr",
     "output_type": "stream",
     "text": [
      "2025/08/12 12:38:15 INFO dspy.teleprompt.mipro_optimizer_v2: \n",
      "==> STEP 1: BOOTSTRAP FEWSHOT EXAMPLES <==\n",
      "2025/08/12 12:38:15 INFO dspy.teleprompt.mipro_optimizer_v2: These will be used as few-shot example candidates for our program and for creating instructions.\n",
      "\n",
      "2025/08/12 12:38:15 INFO dspy.teleprompt.mipro_optimizer_v2: Bootstrapping N=6 sets of demonstrations...\n"
     ]
    },
    {
     "name": "stdout",
     "output_type": "stream",
     "text": [
      "\n",
      "No input received within 20 seconds. Proceeding with execution...\n",
      "Bootstrapping set 1/6\n",
      "Bootstrapping set 2/6\n",
      "Bootstrapping set 3/6\n"
     ]
    },
    {
     "name": "stderr",
     "output_type": "stream",
     "text": [
      "100%|██████████| 2/2 [00:10<00:00,  5.43s/it]\n"
     ]
    },
    {
     "name": "stdout",
     "output_type": "stream",
     "text": [
      "Bootstrapped 1 full traces after 1 examples for up to 1 rounds, amounting to 2 attempts.\n",
      "Bootstrapping set 4/6\n"
     ]
    },
    {
     "name": "stderr",
     "output_type": "stream",
     "text": [
      "100%|██████████| 2/2 [00:00<00:00, 101.11it/s]\n"
     ]
    },
    {
     "name": "stdout",
     "output_type": "stream",
     "text": [
      "Bootstrapped 1 full traces after 1 examples for up to 1 rounds, amounting to 2 attempts.\n",
      "Bootstrapping set 5/6\n"
     ]
    },
    {
     "name": "stderr",
     "output_type": "stream",
     "text": [
      "100%|██████████| 2/2 [00:00<00:00, 105.74it/s]\n"
     ]
    },
    {
     "name": "stdout",
     "output_type": "stream",
     "text": [
      "Bootstrapped 1 full traces after 1 examples for up to 1 rounds, amounting to 2 attempts.\n",
      "Bootstrapping set 6/6\n"
     ]
    },
    {
     "name": "stderr",
     "output_type": "stream",
     "text": [
      "100%|██████████| 2/2 [00:00<00:00, 102.24it/s]\n",
      "2025/08/12 12:38:26 INFO dspy.teleprompt.mipro_optimizer_v2: \n",
      "==> STEP 2: PROPOSE INSTRUCTION CANDIDATES <==\n",
      "2025/08/12 12:38:26 INFO dspy.teleprompt.mipro_optimizer_v2: We will use the few-shot examples from the previous step, a generated dataset summary, a summary of the program code, and a randomly selected prompting tip to propose instructions.\n"
     ]
    },
    {
     "name": "stdout",
     "output_type": "stream",
     "text": [
      "Bootstrapped 1 full traces after 1 examples for up to 1 rounds, amounting to 2 attempts.\n"
     ]
    },
    {
     "name": "stderr",
     "output_type": "stream",
     "text": [
      "2025/08/12 12:38:30 INFO dspy.teleprompt.mipro_optimizer_v2: \n",
      "Proposing N=3 instructions...\n",
      "\n",
      "2025/08/12 12:39:30 INFO dspy.teleprompt.mipro_optimizer_v2: Proposed Instructions for Predictor 0:\n",
      "\n",
      "2025/08/12 12:39:30 INFO dspy.teleprompt.mipro_optimizer_v2: 0: Given the fields `question`, produce the fields `answer`.\n",
      "\n",
      "You are an Agent. In each episode, you will be given the fields `question` as input. And you can see your past trajectory so far.\n",
      "Your goal is to use one or more of the supplied tools to collect any necessary information for producing `answer`.\n",
      "\n",
      "To do this, you will interleave next_thought, next_tool_name, and next_tool_args in each turn, and also when finishing the task.\n",
      "After each tool call, you receive a resulting observation, which gets appended to your trajectory.\n",
      "\n",
      "When writing next_thought, you may reason about the current situation and plan for future steps.\n",
      "When selecting the next_tool_name and its next_tool_args, the tool must be one of:\n",
      "\n",
      "(1) search_wikipedia, whose description is <desc>Wikipedia search tool for the ReAct agent.</desc>. It takes arguments {'query': {'type': 'string'}}.\n",
      "(2) finish, whose description is <desc>Marks the task as complete. That is, signals that all information for producing the outputs, i.e. `answer`, are now available to be extracted.</desc>. It takes arguments {}.\n",
      "When providing `next_tool_args`, the value inside the field must be in JSON format\n",
      "\n",
      "2025/08/12 12:39:30 INFO dspy.teleprompt.mipro_optimizer_v2: 1: You are a knowledgeable film historian tasked with answering questions about film production. Given the fields `question`, produce the fields `answer`. In each episode, you will be given the fields `question` as input and can see your past trajectory. Your goal is to use one or more of the supplied tools to collect any necessary information for producing `answer`. To do this, interleave `next_thought`, `next_tool_name`, and `next_tool_args` in each turn, and also when finishing the task. After each tool call, you will receive a resulting observation, which gets appended to your trajectory. When writing `next_thought`, reason about the current situation and plan for future steps. When selecting the `next_tool_name` and its `next_tool_args`, the tool must be one of:\n",
      "\n",
      "(1) search_wikipedia, which is a Wikipedia search tool for the ReAct agent. It takes arguments {'query': {'type': 'string'}}.\n",
      "(2) finish, which marks the task as complete, signaling that all information for producing the outputs, i.e. `answer`, are now available to be extracted. It takes arguments {}. \n",
      "\n",
      "When providing `next_tool_args`, ensure the value is in JSON format.\n",
      "\n",
      "2025/08/12 12:39:30 INFO dspy.teleprompt.mipro_optimizer_v2: 2: Using the provided `question`, navigate through the process of gathering information to formulate an accurate `answer`. Begin by analyzing the `trajectory` of your previous actions to inform your next steps. Your task is to interleave your reasoning with the selection of tools at your disposal. For your next action, decide whether to use the `search_wikipedia` tool to gather more information or to signal the completion of your task with the `finish` tool. Ensure that your `next_tool_args` are formatted correctly in JSON. Remember to document your thought process at each step to maintain clarity in your reasoning.\n",
      "\n",
      "2025/08/12 12:39:30 INFO dspy.teleprompt.mipro_optimizer_v2: \n",
      "\n",
      "2025/08/12 12:39:30 INFO dspy.teleprompt.mipro_optimizer_v2: Proposed Instructions for Predictor 1:\n",
      "\n",
      "2025/08/12 12:39:30 INFO dspy.teleprompt.mipro_optimizer_v2: 0: Given the fields `question`, produce the fields `answer`.\n",
      "\n",
      "2025/08/12 12:39:30 INFO dspy.teleprompt.mipro_optimizer_v2: 1: You are an Agent tasked with answering critical questions that could influence major decisions in the film industry. Given the fields `question` and `trajectory`, your mission is to accurately produce the fields `reasoning` and `answer`. To achieve this, you must meticulously gather information using the search_wikipedia tool to ensure your answers are well-supported and reliable. Remember, the stakes are high; the accuracy of your answers could affect funding and production choices. Use your reasoning skills to synthesize the information and justify your conclusions.\n",
      "\n",
      "2025/08/12 12:39:30 INFO dspy.teleprompt.mipro_optimizer_v2: 2: You are an educational bot specializing in film production and botany. Given the fields `question` and `trajectory`, produce the fields `reasoning` and `answer`. Your task is to analyze the trajectory of past interactions to determine the necessary information needed to answer the question accurately. Utilize the Wikipedia search tool if further information is required, and ensure that your reasoning is clear and logical before presenting the final answer.\n",
      "\n",
      "2025/08/12 12:39:30 INFO dspy.teleprompt.mipro_optimizer_v2: \n",
      "\n",
      "2025/08/12 12:39:30 INFO dspy.teleprompt.mipro_optimizer_v2: ==> STEP 3: FINDING OPTIMAL PROMPT PARAMETERS <==\n",
      "2025/08/12 12:39:30 INFO dspy.teleprompt.mipro_optimizer_v2: We will evaluate the program over a series of trials with different combinations of instructions and few-shot examples to find the optimal combination using Bayesian Optimization.\n",
      "\n",
      "2025/08/12 12:39:30 INFO dspy.teleprompt.mipro_optimizer_v2: == Trial 1 / 20 - Full Evaluation of Default Program ==\n"
     ]
    },
    {
     "name": "stdout",
     "output_type": "stream",
     "text": [
      "Average Metric: 1.00 / 8 (12.5%): 100%|██████████| 8/8 [00:17<00:00,  2.17s/it] "
     ]
    },
    {
     "name": "stderr",
     "output_type": "stream",
     "text": [
      "2025/08/12 12:39:48 INFO dspy.evaluate.evaluate: Average Metric: 1 / 8 (12.5%)\n",
      "2025/08/12 12:39:48 INFO dspy.teleprompt.mipro_optimizer_v2: Default program score: 12.5\n",
      "\n",
      "2025/08/12 12:39:48 INFO dspy.teleprompt.mipro_optimizer_v2: ===== Trial 2 / 20 =====\n"
     ]
    },
    {
     "name": "stdout",
     "output_type": "stream",
     "text": [
      "\n",
      "Average Metric: 0.00 / 8 (0.0%): 100%|██████████| 8/8 [00:19<00:00,  2.47s/it]"
     ]
    },
    {
     "name": "stderr",
     "output_type": "stream",
     "text": [
      "2025/08/12 12:40:08 INFO dspy.evaluate.evaluate: Average Metric: 0 / 8 (0.0%)\n",
      "2025/08/12 12:40:08 INFO dspy.teleprompt.mipro_optimizer_v2: Score: 0.0 with parameters ['Predictor 0: Instruction 1', 'Predictor 0: Few-Shot Set 3', 'Predictor 1: Instruction 2', 'Predictor 1: Few-Shot Set 0'].\n",
      "2025/08/12 12:40:08 INFO dspy.teleprompt.mipro_optimizer_v2: Scores so far: [12.5, 0.0]\n",
      "2025/08/12 12:40:08 INFO dspy.teleprompt.mipro_optimizer_v2: Best score so far: 12.5\n",
      "2025/08/12 12:40:08 INFO dspy.teleprompt.mipro_optimizer_v2: ========================\n",
      "\n",
      "\n",
      "2025/08/12 12:40:08 INFO dspy.teleprompt.mipro_optimizer_v2: ===== Trial 3 / 20 =====\n"
     ]
    },
    {
     "name": "stdout",
     "output_type": "stream",
     "text": [
      "\n",
      "Average Metric: 2.00 / 8 (25.0%): 100%|██████████| 8/8 [00:03<00:00,  2.29it/s] "
     ]
    },
    {
     "name": "stderr",
     "output_type": "stream",
     "text": [
      "2025/08/12 12:40:11 INFO dspy.evaluate.evaluate: Average Metric: 2 / 8 (25.0%)\n",
      "2025/08/12 12:40:11 INFO dspy.teleprompt.mipro_optimizer_v2: \u001b[92mBest full score so far!\u001b[0m Score: 25.0\n",
      "2025/08/12 12:40:11 INFO dspy.teleprompt.mipro_optimizer_v2: Score: 25.0 with parameters ['Predictor 0: Instruction 1', 'Predictor 0: Few-Shot Set 5', 'Predictor 1: Instruction 2', 'Predictor 1: Few-Shot Set 2'].\n",
      "2025/08/12 12:40:11 INFO dspy.teleprompt.mipro_optimizer_v2: Scores so far: [12.5, 0.0, 25.0]\n",
      "2025/08/12 12:40:11 INFO dspy.teleprompt.mipro_optimizer_v2: Best score so far: 25.0\n",
      "2025/08/12 12:40:11 INFO dspy.teleprompt.mipro_optimizer_v2: ========================\n",
      "\n",
      "\n",
      "2025/08/12 12:40:11 INFO dspy.teleprompt.mipro_optimizer_v2: ===== Trial 4 / 20 =====\n"
     ]
    },
    {
     "name": "stdout",
     "output_type": "stream",
     "text": [
      "\n",
      "Average Metric: 0.00 / 8 (0.0%): 100%|██████████| 8/8 [00:10<00:00,  1.26s/it]"
     ]
    },
    {
     "name": "stderr",
     "output_type": "stream",
     "text": [
      "2025/08/12 12:40:21 INFO dspy.evaluate.evaluate: Average Metric: 0 / 8 (0.0%)\n",
      "2025/08/12 12:40:21 INFO dspy.teleprompt.mipro_optimizer_v2: Score: 0.0 with parameters ['Predictor 0: Instruction 0', 'Predictor 0: Few-Shot Set 5', 'Predictor 1: Instruction 2', 'Predictor 1: Few-Shot Set 0'].\n",
      "2025/08/12 12:40:21 INFO dspy.teleprompt.mipro_optimizer_v2: Scores so far: [12.5, 0.0, 25.0, 0.0]\n",
      "2025/08/12 12:40:21 INFO dspy.teleprompt.mipro_optimizer_v2: Best score so far: 25.0\n",
      "2025/08/12 12:40:21 INFO dspy.teleprompt.mipro_optimizer_v2: ========================\n",
      "\n",
      "\n",
      "2025/08/12 12:40:21 INFO dspy.teleprompt.mipro_optimizer_v2: ===== Trial 5 / 20 =====\n"
     ]
    },
    {
     "name": "stdout",
     "output_type": "stream",
     "text": [
      "\n",
      "Average Metric: 1.00 / 8 (12.5%): 100%|██████████| 8/8 [00:11<00:00,  1.42s/it] "
     ]
    },
    {
     "name": "stderr",
     "output_type": "stream",
     "text": [
      "2025/08/12 12:40:33 INFO dspy.evaluate.evaluate: Average Metric: 1 / 8 (12.5%)\n",
      "2025/08/12 12:40:33 INFO dspy.teleprompt.mipro_optimizer_v2: Score: 12.5 with parameters ['Predictor 0: Instruction 2', 'Predictor 0: Few-Shot Set 5', 'Predictor 1: Instruction 1', 'Predictor 1: Few-Shot Set 4'].\n",
      "2025/08/12 12:40:33 INFO dspy.teleprompt.mipro_optimizer_v2: Scores so far: [12.5, 0.0, 25.0, 0.0, 12.5]\n",
      "2025/08/12 12:40:33 INFO dspy.teleprompt.mipro_optimizer_v2: Best score so far: 25.0\n",
      "2025/08/12 12:40:33 INFO dspy.teleprompt.mipro_optimizer_v2: ========================\n",
      "\n",
      "\n",
      "2025/08/12 12:40:33 INFO dspy.teleprompt.mipro_optimizer_v2: ===== Trial 6 / 20 =====\n"
     ]
    },
    {
     "name": "stdout",
     "output_type": "stream",
     "text": [
      "\n",
      "Average Metric: 1.00 / 8 (12.5%): 100%|██████████| 8/8 [00:02<00:00,  2.86it/s]"
     ]
    },
    {
     "name": "stderr",
     "output_type": "stream",
     "text": [
      "2025/08/12 12:40:36 INFO dspy.evaluate.evaluate: Average Metric: 1 / 8 (12.5%)\n",
      "2025/08/12 12:40:36 INFO dspy.teleprompt.mipro_optimizer_v2: Score: 12.5 with parameters ['Predictor 0: Instruction 2', 'Predictor 0: Few-Shot Set 5', 'Predictor 1: Instruction 2', 'Predictor 1: Few-Shot Set 2'].\n",
      "2025/08/12 12:40:36 INFO dspy.teleprompt.mipro_optimizer_v2: Scores so far: [12.5, 0.0, 25.0, 0.0, 12.5, 12.5]\n",
      "2025/08/12 12:40:36 INFO dspy.teleprompt.mipro_optimizer_v2: Best score so far: 25.0\n",
      "2025/08/12 12:40:36 INFO dspy.teleprompt.mipro_optimizer_v2: ========================\n",
      "\n",
      "\n",
      "2025/08/12 12:40:36 INFO dspy.teleprompt.mipro_optimizer_v2: ===== Trial 7 / 20 =====\n"
     ]
    },
    {
     "name": "stdout",
     "output_type": "stream",
     "text": [
      "\n",
      "Average Metric: 1.00 / 8 (12.5%): 100%|██████████| 8/8 [00:03<00:00,  2.37it/s]"
     ]
    },
    {
     "name": "stderr",
     "output_type": "stream",
     "text": [
      "2025/08/12 12:40:39 INFO dspy.evaluate.evaluate: Average Metric: 1 / 8 (12.5%)\n",
      "2025/08/12 12:40:39 INFO dspy.teleprompt.mipro_optimizer_v2: Score: 12.5 with parameters ['Predictor 0: Instruction 0', 'Predictor 0: Few-Shot Set 5', 'Predictor 1: Instruction 0', 'Predictor 1: Few-Shot Set 0'].\n",
      "2025/08/12 12:40:39 INFO dspy.teleprompt.mipro_optimizer_v2: Scores so far: [12.5, 0.0, 25.0, 0.0, 12.5, 12.5, 12.5]\n",
      "2025/08/12 12:40:39 INFO dspy.teleprompt.mipro_optimizer_v2: Best score so far: 25.0\n",
      "2025/08/12 12:40:39 INFO dspy.teleprompt.mipro_optimizer_v2: ========================\n",
      "\n",
      "\n",
      "2025/08/12 12:40:39 INFO dspy.teleprompt.mipro_optimizer_v2: ===== Trial 8 / 20 =====\n"
     ]
    },
    {
     "name": "stdout",
     "output_type": "stream",
     "text": [
      "\n",
      "Average Metric: 1.00 / 8 (12.5%): 100%|██████████| 8/8 [00:03<00:00,  2.22it/s] "
     ]
    },
    {
     "name": "stderr",
     "output_type": "stream",
     "text": [
      "2025/08/12 12:40:43 INFO dspy.evaluate.evaluate: Average Metric: 1 / 8 (12.5%)\n",
      "2025/08/12 12:40:43 INFO dspy.teleprompt.mipro_optimizer_v2: Score: 12.5 with parameters ['Predictor 0: Instruction 1', 'Predictor 0: Few-Shot Set 2', 'Predictor 1: Instruction 2', 'Predictor 1: Few-Shot Set 1'].\n",
      "2025/08/12 12:40:43 INFO dspy.teleprompt.mipro_optimizer_v2: Scores so far: [12.5, 0.0, 25.0, 0.0, 12.5, 12.5, 12.5, 12.5]\n",
      "2025/08/12 12:40:43 INFO dspy.teleprompt.mipro_optimizer_v2: Best score so far: 25.0\n",
      "2025/08/12 12:40:43 INFO dspy.teleprompt.mipro_optimizer_v2: ========================\n",
      "\n",
      "\n",
      "2025/08/12 12:40:43 INFO dspy.teleprompt.mipro_optimizer_v2: ===== Trial 9 / 20 =====\n"
     ]
    },
    {
     "name": "stdout",
     "output_type": "stream",
     "text": [
      "\n",
      "Average Metric: 1.00 / 8 (12.5%): 100%|██████████| 8/8 [00:22<00:00,  2.78s/it] "
     ]
    },
    {
     "name": "stderr",
     "output_type": "stream",
     "text": [
      "2025/08/12 12:41:05 INFO dspy.evaluate.evaluate: Average Metric: 1 / 8 (12.5%)\n",
      "2025/08/12 12:41:05 INFO dspy.teleprompt.mipro_optimizer_v2: Score: 12.5 with parameters ['Predictor 0: Instruction 1', 'Predictor 0: Few-Shot Set 0', 'Predictor 1: Instruction 0', 'Predictor 1: Few-Shot Set 0'].\n",
      "2025/08/12 12:41:05 INFO dspy.teleprompt.mipro_optimizer_v2: Scores so far: [12.5, 0.0, 25.0, 0.0, 12.5, 12.5, 12.5, 12.5, 12.5]\n",
      "2025/08/12 12:41:05 INFO dspy.teleprompt.mipro_optimizer_v2: Best score so far: 25.0\n",
      "2025/08/12 12:41:05 INFO dspy.teleprompt.mipro_optimizer_v2: ========================\n",
      "\n",
      "\n",
      "2025/08/12 12:41:05 INFO dspy.teleprompt.mipro_optimizer_v2: ===== Trial 10 / 20 =====\n"
     ]
    },
    {
     "name": "stdout",
     "output_type": "stream",
     "text": [
      "\n",
      "Average Metric: 1.00 / 8 (12.5%): 100%|██████████| 8/8 [00:03<00:00,  2.50it/s]"
     ]
    },
    {
     "name": "stderr",
     "output_type": "stream",
     "text": [
      "2025/08/12 12:41:09 INFO dspy.evaluate.evaluate: Average Metric: 1 / 8 (12.5%)\n",
      "2025/08/12 12:41:09 INFO dspy.teleprompt.mipro_optimizer_v2: Score: 12.5 with parameters ['Predictor 0: Instruction 0', 'Predictor 0: Few-Shot Set 0', 'Predictor 1: Instruction 1', 'Predictor 1: Few-Shot Set 4'].\n",
      "2025/08/12 12:41:09 INFO dspy.teleprompt.mipro_optimizer_v2: Scores so far: [12.5, 0.0, 25.0, 0.0, 12.5, 12.5, 12.5, 12.5, 12.5, 12.5]\n",
      "2025/08/12 12:41:09 INFO dspy.teleprompt.mipro_optimizer_v2: Best score so far: 25.0\n",
      "2025/08/12 12:41:09 INFO dspy.teleprompt.mipro_optimizer_v2: =========================\n",
      "\n",
      "\n",
      "2025/08/12 12:41:09 INFO dspy.teleprompt.mipro_optimizer_v2: ===== Trial 11 / 20 =====\n"
     ]
    },
    {
     "name": "stdout",
     "output_type": "stream",
     "text": [
      "\n",
      "Average Metric: 1.00 / 8 (12.5%): 100%|██████████| 8/8 [00:02<00:00,  3.65it/s]"
     ]
    },
    {
     "name": "stderr",
     "output_type": "stream",
     "text": [
      "2025/08/12 12:41:11 INFO dspy.evaluate.evaluate: Average Metric: 1 / 8 (12.5%)\n",
      "2025/08/12 12:41:11 INFO dspy.teleprompt.mipro_optimizer_v2: Score: 12.5 with parameters ['Predictor 0: Instruction 1', 'Predictor 0: Few-Shot Set 4', 'Predictor 1: Instruction 1', 'Predictor 1: Few-Shot Set 2'].\n",
      "2025/08/12 12:41:11 INFO dspy.teleprompt.mipro_optimizer_v2: Scores so far: [12.5, 0.0, 25.0, 0.0, 12.5, 12.5, 12.5, 12.5, 12.5, 12.5, 12.5]\n",
      "2025/08/12 12:41:11 INFO dspy.teleprompt.mipro_optimizer_v2: Best score so far: 25.0\n",
      "2025/08/12 12:41:11 INFO dspy.teleprompt.mipro_optimizer_v2: =========================\n",
      "\n",
      "\n",
      "2025/08/12 12:41:11 INFO dspy.teleprompt.mipro_optimizer_v2: ===== Trial 12 / 20 =====\n"
     ]
    },
    {
     "name": "stdout",
     "output_type": "stream",
     "text": [
      "\n",
      "Average Metric: 0.00 / 8 (0.0%): 100%|██████████| 8/8 [00:02<00:00,  3.51it/s]"
     ]
    },
    {
     "name": "stderr",
     "output_type": "stream",
     "text": [
      "2025/08/12 12:41:14 INFO dspy.evaluate.evaluate: Average Metric: 0 / 8 (0.0%)\n",
      "2025/08/12 12:41:14 INFO dspy.teleprompt.mipro_optimizer_v2: Score: 0.0 with parameters ['Predictor 0: Instruction 0', 'Predictor 0: Few-Shot Set 0', 'Predictor 1: Instruction 0', 'Predictor 1: Few-Shot Set 2'].\n",
      "2025/08/12 12:41:14 INFO dspy.teleprompt.mipro_optimizer_v2: Scores so far: [12.5, 0.0, 25.0, 0.0, 12.5, 12.5, 12.5, 12.5, 12.5, 12.5, 12.5, 0.0]\n",
      "2025/08/12 12:41:14 INFO dspy.teleprompt.mipro_optimizer_v2: Best score so far: 25.0\n",
      "2025/08/12 12:41:14 INFO dspy.teleprompt.mipro_optimizer_v2: =========================\n",
      "\n",
      "\n",
      "2025/08/12 12:41:14 INFO dspy.teleprompt.mipro_optimizer_v2: ===== Trial 13 / 20 =====\n"
     ]
    },
    {
     "name": "stdout",
     "output_type": "stream",
     "text": [
      "\n",
      "Average Metric: 2.00 / 8 (25.0%): 100%|██████████| 8/8 [00:00<00:00, 631.00it/s] "
     ]
    },
    {
     "name": "stderr",
     "output_type": "stream",
     "text": [
      "2025/08/12 12:41:14 INFO dspy.evaluate.evaluate: Average Metric: 2 / 8 (25.0%)\n",
      "2025/08/12 12:41:14 INFO dspy.teleprompt.mipro_optimizer_v2: Score: 25.0 with parameters ['Predictor 0: Instruction 1', 'Predictor 0: Few-Shot Set 5', 'Predictor 1: Instruction 2', 'Predictor 1: Few-Shot Set 3'].\n",
      "2025/08/12 12:41:14 INFO dspy.teleprompt.mipro_optimizer_v2: Scores so far: [12.5, 0.0, 25.0, 0.0, 12.5, 12.5, 12.5, 12.5, 12.5, 12.5, 12.5, 0.0, 25.0]\n",
      "2025/08/12 12:41:14 INFO dspy.teleprompt.mipro_optimizer_v2: Best score so far: 25.0\n",
      "2025/08/12 12:41:14 INFO dspy.teleprompt.mipro_optimizer_v2: =========================\n",
      "\n",
      "\n",
      "2025/08/12 12:41:14 INFO dspy.teleprompt.mipro_optimizer_v2: ===== Trial 14 / 20 =====\n"
     ]
    },
    {
     "name": "stdout",
     "output_type": "stream",
     "text": [
      "\n",
      "Average Metric: 2.00 / 8 (25.0%): 100%|██████████| 8/8 [00:00<00:00, 1902.83it/s]"
     ]
    },
    {
     "name": "stderr",
     "output_type": "stream",
     "text": [
      "2025/08/12 12:41:14 INFO dspy.evaluate.evaluate: Average Metric: 2 / 8 (25.0%)\n",
      "2025/08/12 12:41:14 INFO dspy.teleprompt.mipro_optimizer_v2: Score: 25.0 with parameters ['Predictor 0: Instruction 1', 'Predictor 0: Few-Shot Set 5', 'Predictor 1: Instruction 2', 'Predictor 1: Few-Shot Set 3'].\n",
      "2025/08/12 12:41:14 INFO dspy.teleprompt.mipro_optimizer_v2: Scores so far: [12.5, 0.0, 25.0, 0.0, 12.5, 12.5, 12.5, 12.5, 12.5, 12.5, 12.5, 0.0, 25.0, 25.0]\n",
      "2025/08/12 12:41:14 INFO dspy.teleprompt.mipro_optimizer_v2: Best score so far: 25.0\n",
      "2025/08/12 12:41:14 INFO dspy.teleprompt.mipro_optimizer_v2: =========================\n",
      "\n",
      "\n",
      "2025/08/12 12:41:14 INFO dspy.teleprompt.mipro_optimizer_v2: ===== Trial 15 / 20 =====\n"
     ]
    },
    {
     "name": "stdout",
     "output_type": "stream",
     "text": [
      "\n",
      "Average Metric: 1.00 / 8 (12.5%): 100%|██████████| 8/8 [00:02<00:00,  3.39it/s] "
     ]
    },
    {
     "name": "stderr",
     "output_type": "stream",
     "text": [
      "2025/08/12 12:41:17 INFO dspy.evaluate.evaluate: Average Metric: 1 / 8 (12.5%)\n",
      "2025/08/12 12:41:17 INFO dspy.teleprompt.mipro_optimizer_v2: Score: 12.5 with parameters ['Predictor 0: Instruction 1', 'Predictor 0: Few-Shot Set 5', 'Predictor 1: Instruction 0', 'Predictor 1: Few-Shot Set 2'].\n",
      "2025/08/12 12:41:17 INFO dspy.teleprompt.mipro_optimizer_v2: Scores so far: [12.5, 0.0, 25.0, 0.0, 12.5, 12.5, 12.5, 12.5, 12.5, 12.5, 12.5, 0.0, 25.0, 25.0, 12.5]\n",
      "2025/08/12 12:41:17 INFO dspy.teleprompt.mipro_optimizer_v2: Best score so far: 25.0\n",
      "2025/08/12 12:41:17 INFO dspy.teleprompt.mipro_optimizer_v2: =========================\n",
      "\n",
      "\n",
      "2025/08/12 12:41:17 INFO dspy.teleprompt.mipro_optimizer_v2: ===== Trial 16 / 20 =====\n"
     ]
    },
    {
     "name": "stdout",
     "output_type": "stream",
     "text": [
      "\n",
      "Average Metric: 2.00 / 8 (25.0%): 100%|██████████| 8/8 [00:00<00:00, 2051.38it/s]"
     ]
    },
    {
     "name": "stderr",
     "output_type": "stream",
     "text": [
      "2025/08/12 12:41:17 INFO dspy.evaluate.evaluate: Average Metric: 2 / 8 (25.0%)\n"
     ]
    },
    {
     "name": "stdout",
     "output_type": "stream",
     "text": [
      "\n"
     ]
    },
    {
     "name": "stderr",
     "output_type": "stream",
     "text": [
      "2025/08/12 12:41:17 INFO dspy.teleprompt.mipro_optimizer_v2: Score: 25.0 with parameters ['Predictor 0: Instruction 1', 'Predictor 0: Few-Shot Set 4', 'Predictor 1: Instruction 2', 'Predictor 1: Few-Shot Set 5'].\n",
      "2025/08/12 12:41:17 INFO dspy.teleprompt.mipro_optimizer_v2: Scores so far: [12.5, 0.0, 25.0, 0.0, 12.5, 12.5, 12.5, 12.5, 12.5, 12.5, 12.5, 0.0, 25.0, 25.0, 12.5, 25.0]\n",
      "2025/08/12 12:41:17 INFO dspy.teleprompt.mipro_optimizer_v2: Best score so far: 25.0\n",
      "2025/08/12 12:41:17 INFO dspy.teleprompt.mipro_optimizer_v2: =========================\n",
      "\n",
      "\n",
      "2025/08/12 12:41:17 INFO dspy.teleprompt.mipro_optimizer_v2: ===== Trial 17 / 20 =====\n"
     ]
    },
    {
     "name": "stdout",
     "output_type": "stream",
     "text": [
      "Average Metric: 1.00 / 8 (12.5%): 100%|██████████| 8/8 [00:00<00:00, 1778.19it/s]"
     ]
    },
    {
     "name": "stderr",
     "output_type": "stream",
     "text": [
      "2025/08/12 12:41:17 INFO dspy.evaluate.evaluate: Average Metric: 1 / 8 (12.5%)\n",
      "2025/08/12 12:41:17 INFO dspy.teleprompt.mipro_optimizer_v2: Score: 12.5 with parameters ['Predictor 0: Instruction 1', 'Predictor 0: Few-Shot Set 3', 'Predictor 1: Instruction 1', 'Predictor 1: Few-Shot Set 3'].\n",
      "2025/08/12 12:41:17 INFO dspy.teleprompt.mipro_optimizer_v2: Scores so far: [12.5, 0.0, 25.0, 0.0, 12.5, 12.5, 12.5, 12.5, 12.5, 12.5, 12.5, 0.0, 25.0, 25.0, 12.5, 25.0, 12.5]\n",
      "2025/08/12 12:41:17 INFO dspy.teleprompt.mipro_optimizer_v2: Best score so far: 25.0\n",
      "2025/08/12 12:41:17 INFO dspy.teleprompt.mipro_optimizer_v2: =========================\n",
      "\n",
      "\n",
      "2025/08/12 12:41:17 INFO dspy.teleprompt.mipro_optimizer_v2: ===== Trial 18 / 20 =====\n"
     ]
    },
    {
     "name": "stdout",
     "output_type": "stream",
     "text": [
      "\n",
      "Average Metric: 2.00 / 8 (25.0%): 100%|██████████| 8/8 [00:00<00:00, 1953.00it/s]"
     ]
    },
    {
     "name": "stderr",
     "output_type": "stream",
     "text": [
      "2025/08/12 12:41:17 INFO dspy.evaluate.evaluate: Average Metric: 2 / 8 (25.0%)\n",
      "2025/08/12 12:41:17 INFO dspy.teleprompt.mipro_optimizer_v2: Score: 25.0 with parameters ['Predictor 0: Instruction 1', 'Predictor 0: Few-Shot Set 5', 'Predictor 1: Instruction 2', 'Predictor 1: Few-Shot Set 2'].\n",
      "2025/08/12 12:41:17 INFO dspy.teleprompt.mipro_optimizer_v2: Scores so far: [12.5, 0.0, 25.0, 0.0, 12.5, 12.5, 12.5, 12.5, 12.5, 12.5, 12.5, 0.0, 25.0, 25.0, 12.5, 25.0, 12.5, 25.0]\n",
      "2025/08/12 12:41:17 INFO dspy.teleprompt.mipro_optimizer_v2: Best score so far: 25.0\n",
      "2025/08/12 12:41:17 INFO dspy.teleprompt.mipro_optimizer_v2: =========================\n",
      "\n",
      "\n",
      "2025/08/12 12:41:17 INFO dspy.teleprompt.mipro_optimizer_v2: ===== Trial 19 / 20 =====\n"
     ]
    },
    {
     "name": "stdout",
     "output_type": "stream",
     "text": [
      "\n",
      "Average Metric: 1.00 / 8 (12.5%): 100%|██████████| 8/8 [00:03<00:00,  2.07it/s]"
     ]
    },
    {
     "name": "stderr",
     "output_type": "stream",
     "text": [
      "2025/08/12 12:41:21 INFO dspy.evaluate.evaluate: Average Metric: 1 / 8 (12.5%)\n",
      "2025/08/12 12:41:21 INFO dspy.teleprompt.mipro_optimizer_v2: Score: 12.5 with parameters ['Predictor 0: Instruction 0', 'Predictor 0: Few-Shot Set 4', 'Predictor 1: Instruction 2', 'Predictor 1: Few-Shot Set 2'].\n",
      "2025/08/12 12:41:21 INFO dspy.teleprompt.mipro_optimizer_v2: Scores so far: [12.5, 0.0, 25.0, 0.0, 12.5, 12.5, 12.5, 12.5, 12.5, 12.5, 12.5, 0.0, 25.0, 25.0, 12.5, 25.0, 12.5, 25.0, 12.5]\n",
      "2025/08/12 12:41:21 INFO dspy.teleprompt.mipro_optimizer_v2: Best score so far: 25.0\n",
      "2025/08/12 12:41:21 INFO dspy.teleprompt.mipro_optimizer_v2: =========================\n",
      "\n",
      "\n",
      "2025/08/12 12:41:21 INFO dspy.teleprompt.mipro_optimizer_v2: ===== Trial 20 / 20 =====\n"
     ]
    },
    {
     "name": "stdout",
     "output_type": "stream",
     "text": [
      "\n",
      "Average Metric: 2.00 / 8 (25.0%): 100%|██████████| 8/8 [00:18<00:00,  2.27s/it] "
     ]
    },
    {
     "name": "stderr",
     "output_type": "stream",
     "text": [
      "2025/08/12 12:41:39 INFO dspy.evaluate.evaluate: Average Metric: 2 / 8 (25.0%)\n",
      "2025/08/12 12:41:39 INFO dspy.teleprompt.mipro_optimizer_v2: Score: 25.0 with parameters ['Predictor 0: Instruction 2', 'Predictor 0: Few-Shot Set 1', 'Predictor 1: Instruction 2', 'Predictor 1: Few-Shot Set 4'].\n",
      "2025/08/12 12:41:39 INFO dspy.teleprompt.mipro_optimizer_v2: Scores so far: [12.5, 0.0, 25.0, 0.0, 12.5, 12.5, 12.5, 12.5, 12.5, 12.5, 12.5, 0.0, 25.0, 25.0, 12.5, 25.0, 12.5, 25.0, 12.5, 25.0]\n",
      "2025/08/12 12:41:39 INFO dspy.teleprompt.mipro_optimizer_v2: Best score so far: 25.0\n",
      "2025/08/12 12:41:39 INFO dspy.teleprompt.mipro_optimizer_v2: =========================\n",
      "\n",
      "\n",
      "2025/08/12 12:41:39 INFO dspy.teleprompt.mipro_optimizer_v2: ===== Trial 21 / 20 =====\n"
     ]
    },
    {
     "name": "stdout",
     "output_type": "stream",
     "text": [
      "\n",
      "Average Metric: 1.00 / 8 (12.5%): 100%|██████████| 8/8 [00:00<00:00, 1563.65it/s]"
     ]
    },
    {
     "name": "stderr",
     "output_type": "stream",
     "text": [
      "2025/08/12 12:41:39 INFO dspy.evaluate.evaluate: Average Metric: 1 / 8 (12.5%)\n",
      "2025/08/12 12:41:39 INFO dspy.teleprompt.mipro_optimizer_v2: Score: 12.5 with parameters ['Predictor 0: Instruction 2', 'Predictor 0: Few-Shot Set 3', 'Predictor 1: Instruction 2', 'Predictor 1: Few-Shot Set 3'].\n",
      "2025/08/12 12:41:39 INFO dspy.teleprompt.mipro_optimizer_v2: Scores so far: [12.5, 0.0, 25.0, 0.0, 12.5, 12.5, 12.5, 12.5, 12.5, 12.5, 12.5, 0.0, 25.0, 25.0, 12.5, 25.0, 12.5, 25.0, 12.5, 25.0, 12.5]\n",
      "2025/08/12 12:41:39 INFO dspy.teleprompt.mipro_optimizer_v2: Best score so far: 25.0\n",
      "2025/08/12 12:41:39 INFO dspy.teleprompt.mipro_optimizer_v2: =========================\n",
      "\n",
      "\n",
      "2025/08/12 12:41:39 INFO dspy.teleprompt.mipro_optimizer_v2: Returning best identified program with score 25.0!\n"
     ]
    },
    {
     "name": "stdout",
     "output_type": "stream",
     "text": [
      "\n",
      "✅ Optimization complete!\n",
      "🎯 Optimized agent ready for improved performance\n",
      "📈 Original agent: ReAct\n",
      "🎯 Optimized agent: ReAct\n"
     ]
    },
    {
     "data": {
      "text/plain": [
       "react = Predict(StringSignature(question, trajectory -> next_thought, next_tool_name, next_tool_args\n",
       "    instructions=\"You are a knowledgeable film historian tasked with answering questions about film production. Given the fields `question`, produce the fields `answer`. In each episode, you will be given the fields `question` as input and can see your past trajectory. Your goal is to use one or more of the supplied tools to collect any necessary information for producing `answer`. To do this, interleave `next_thought`, `next_tool_name`, and `next_tool_args` in each turn, and also when finishing the task. After each tool call, you will receive a resulting observation, which gets appended to your trajectory. When writing `next_thought`, reason about the current situation and plan for future steps. When selecting the `next_tool_name` and its `next_tool_args`, the tool must be one of:\\n\\n(1) search_wikipedia, which is a Wikipedia search tool for the ReAct agent. It takes arguments {'query': {'type': 'string'}}.\\n(2) finish, which marks the task as complete, signaling that all information for producing the outputs, i.e. `answer`, are now available to be extracted. It takes arguments {}. \\n\\nWhen providing `next_tool_args`, ensure the value is in JSON format.\"\n",
       "    question = Field(annotation=str required=True json_schema_extra={'__dspy_field_type': 'input', 'prefix': 'Question:', 'desc': '${question}'})\n",
       "    trajectory = Field(annotation=str required=True json_schema_extra={'__dspy_field_type': 'input', 'prefix': 'Trajectory:', 'desc': '${trajectory}'})\n",
       "    next_thought = Field(annotation=str required=True json_schema_extra={'__dspy_field_type': 'output', 'prefix': 'Next Thought:', 'desc': '${next_thought}'})\n",
       "    next_tool_name = Field(annotation=Literal['search_wikipedia', 'finish'] required=True json_schema_extra={'__dspy_field_type': 'output', 'prefix': 'Next Tool Name:', 'desc': '${next_tool_name}'})\n",
       "    next_tool_args = Field(annotation=dict[str, Any] required=True json_schema_extra={'__dspy_field_type': 'output', 'prefix': 'Next Tool Args:', 'desc': '${next_tool_args}'})\n",
       "))\n",
       "extract.predict = Predict(StringSignature(question, trajectory -> reasoning, answer\n",
       "    instructions='You are an educational bot specializing in film production and botany. Given the fields `question` and `trajectory`, produce the fields `reasoning` and `answer`. Your task is to analyze the trajectory of past interactions to determine the necessary information needed to answer the question accurately. Utilize the Wikipedia search tool if further information is required, and ensure that your reasoning is clear and logical before presenting the final answer.'\n",
       "    question = Field(annotation=str required=True json_schema_extra={'__dspy_field_type': 'input', 'prefix': 'Question:', 'desc': '${question}'})\n",
       "    trajectory = Field(annotation=str required=True json_schema_extra={'__dspy_field_type': 'input', 'prefix': 'Trajectory:', 'desc': '${trajectory}'})\n",
       "    reasoning = Field(annotation=str required=True json_schema_extra={'prefix': \"Reasoning: Let's think step by step in order to\", 'desc': '${reasoning}', '__dspy_field_type': 'output'})\n",
       "    answer = Field(annotation=str required=True json_schema_extra={'__dspy_field_type': 'output', 'prefix': 'Answer:', 'desc': '${answer}'})\n",
       "))"
      ]
     },
     "execution_count": 18,
     "metadata": {},
     "output_type": "execute_result"
    }
   ],
   "source": [
    "# Comprehensive optimization example with MIPROv2\n",
    "import dspy\n",
    "from dspy.datasets import HotPotQA\n",
    "\n",
    "# Configure DSPy with the language model\n",
    "dspy.configure(lm=dspy.LM(\"openai/gpt-4o-mini\"))\n",
    "\n",
    "# Define search function for the agent\n",
    "def search_wikipedia(query: str) -> list[str]:\n",
    "    \"\"\"Wikipedia search tool for the ReAct agent.\"\"\"\n",
    "    results = dspy.ColBERTv2(url=\"http://20.102.90.50:2017/wiki17_abstracts\")(query, k=3)\n",
    "    return [x[\"text\"] for x in results]\n",
    "\n",
    "print(\"🔄 Setting up optimization experiment...\")\n",
    "print(\"📚 Loading HotPotQA dataset...\")\n",
    "\n",
    "# Load training dataset for optimization\n",
    "trainset = [x.with_inputs('question') for x in HotPotQA(train_seed=2024, train_size=10).train]\n",
    "print(f\"✅ Loaded {len(trainset)} training examples\")\n",
    "\n",
    "# Create base ReAct agent (before optimization)\n",
    "print(\"🤖 Creating base ReAct agent...\")\n",
    "react = dspy.ReAct(\"question -> answer\", tools=[search_wikipedia])\n",
    "\n",
    "print(\"⚡ Setting up MIPROv2 optimizer...\")\n",
    "print(\"📊 Using exact match metric for evaluation\")\n",
    "\n",
    "# Initialize optimizer with configuration\n",
    "tp = dspy.MIPROv2(\n",
    "    metric=dspy.evaluate.answer_exact_match,  # Evaluation metric\n",
    "    auto=\"light\",  # Optimization intensity\n",
    "    num_threads=24  # Parallel processing\n",
    ")\n",
    "\n",
    "print(\"🚀 Starting optimization process...\")\n",
    "print(\"⏰ This may take several minutes...\")\n",
    "\n",
    "# Optimize the ReAct agent\n",
    "optimized_react = tp.compile(react, trainset=trainset)\n",
    "\n",
    "print(\"✅ Optimization complete!\")\n",
    "print(\"🎯 Optimized agent ready for improved performance\")\n",
    "\n",
    "# The optimized_react now has better prompts than the original react\n",
    "print(f\"📈 Original agent: {type(react).__name__}\")\n",
    "print(f\"🎯 Optimized agent: {type(optimized_react).__name__}\")\n",
    "\n",
    "optimized_react"
   ]
  },
  {
   "cell_type": "code",
   "execution_count": 19,
   "id": "3621c90c",
   "metadata": {},
   "outputs": [
    {
     "name": "stderr",
     "output_type": "stream",
     "text": [
      "`trust_remote_code` is not supported anymore.\n",
      "Please check that the Hugging Face dataset 'hotpot_qa' isn't based on a loading script and remove `trust_remote_code`.\n",
      "If the dataset is based on a loading script, please ask the dataset author to remove it and convert it to a standard format like Parquet.\n"
     ]
    },
    {
     "name": "stdout",
     "output_type": "stream",
     "text": [
      "📊 HotPotQA Dataset Information:\n",
      "==================================================\n"
     ]
    },
    {
     "name": "stderr",
     "output_type": "stream",
     "text": [
      "`trust_remote_code` is not supported anymore.\n",
      "Please check that the Hugging Face dataset 'hotpot_qa' isn't based on a loading script and remove `trust_remote_code`.\n",
      "If the dataset is based on a loading script, please ask the dataset author to remove it and convert it to a standard format like Parquet.\n"
     ]
    },
    {
     "name": "stdout",
     "output_type": "stream",
     "text": [
      "📚 Dataset: HotPotQA\n",
      "🔢 Sample size: 3 examples\n",
      "\n",
      "📝 Example 1:\n",
      "❓ Question: Are Smyrnium and Nymania both types of plant?\n",
      "✅ Answer: yes\n",
      "------------------------------\n",
      "\n",
      "📝 Example 2:\n",
      "❓ Question: That Darn Cat! and Never a Dull Moment were both produced by what studio?\n",
      "✅ Answer: Walt Disney Productions\n",
      "------------------------------\n",
      "\n",
      "📝 Example 3:\n",
      "❓ Question: Was Yakov Protazanov or Marcel Duchamp born in 1881\n",
      "✅ Answer: Yakov Alexandrovich Protazanov (Russian: Я́ков Алекса́ндрович Протаза́нов ; January 23 (O.S. February 4), 1881\n",
      "------------------------------\n",
      "\n",
      "💡 This dataset tests multi-hop reasoning capabilities\n",
      "🎯 Perfect for evaluating and optimizing ReAct agents!\n"
     ]
    },
    {
     "data": {
      "text/plain": [
       "dspy.datasets.hotpotqa.HotPotQA"
      ]
     },
     "execution_count": 19,
     "metadata": {},
     "output_type": "execute_result"
    }
   ],
   "source": [
    "# Explore the HotPotQA dataset\n",
    "print(\"📊 HotPotQA Dataset Information:\")\n",
    "print(\"=\" * 50)\n",
    "\n",
    "# Get dataset info\n",
    "hotpot = HotPotQA(train_seed=2024, train_size=10)  # Small sample for exploration\n",
    "sample_data = hotpot.train[:3]\n",
    "\n",
    "print(f\"📚 Dataset: {hotpot.__class__.__name__}\")\n",
    "print(f\"🔢 Sample size: {len(sample_data)} examples\")\n",
    "\n",
    "for i, example in enumerate(sample_data, 1):\n",
    "    print(f\"\\n📝 Example {i}:\")\n",
    "    print(f\"❓ Question: {example.question}\")\n",
    "    print(f\"✅ Answer: {example.answer}\")\n",
    "    print(\"-\" * 30)\n",
    "\n",
    "print(\"\\n💡 This dataset tests multi-hop reasoning capabilities\")\n",
    "print(\"🎯 Perfect for evaluating and optimizing ReAct agents!\")\n",
    "\n",
    "HotPotQA"
   ]
  },
  {
   "cell_type": "markdown",
   "id": "a577d6a3",
   "metadata": {},
   "source": [
    "---\n",
    "\n",
    "## 📝 Summary and Key Learnings\n",
    "\n",
    "### What We Accomplished Today:\n",
    "\n",
    "✅ **Environment Setup**: Configured DSPy with OpenAI GPT-4o-mini and MLflow tracking  \n",
    "✅ **Chain of Thought**: Implemented step-by-step reasoning for complex problems  \n",
    "✅ **RAG Implementation**: Combined retrieval with generation using Wikipedia search  \n",
    "✅ **Classification**: Built multi-dimensional sentiment analysis with confidence scores  \n",
    "✅ **Information Extraction**: Converted unstructured text to structured data  \n",
    "✅ **Agent Reasoning**: Created multi-tool agents with ReAct for complex problem solving  \n",
    "✅ **Modular Composition**: Built sophisticated article generation systems  \n",
    "✅ **Automatic Optimization**: Used MIPROv2 for automatic prompt optimization  \n",
    "\n",
    "### 🔑 Key Benefits of DSPy:\n",
    "\n",
    "🎯 **Structured Programming**: Clean, maintainable LM applications with typed signatures  \n",
    "🔄 **Automatic Optimization**: Self-improving prompts through data-driven optimization  \n",
    "🧩 **Modular Design**: Reusable components that can be composed into complex systems  \n",
    "📊 **Integrated Tracking**: Built-in experiment management with MLflow integration  \n",
    "🔧 **Tool Integration**: Easy integration of external tools and retrieval systems  \n",
    "⚡ **Performance**: Optimized prompts often outperform hand-crafted ones  \n",
    "\n",
    "### 🚀 Advanced Concepts Demonstrated:\n",
    "\n",
    "- **Signatures**: Typed input/output specifications for LM modules\n",
    "- **Modules**: Reusable components like ChainOfThought, Predict, ReAct\n",
    "- **Composition**: Building complex applications from simple modules\n",
    "- **Optimization**: Automatic improvement using metrics and training data\n",
    "- **Tool Use**: Integrating external APIs and search systems\n",
    "- **Multi-modal**: Support for text, images, and structured data\n",
    "\n",
    "### 📈 Performance Insights:\n",
    "\n",
    "- **Before Optimization**: Base prompts with default performance\n",
    "- **After MIPROv2**: Automatically optimized prompts with improved accuracy\n",
    "- **MLflow Tracking**: Complete experiment history and performance metrics\n",
    "- **Systematic Improvement**: Data-driven enhancement rather than manual tuning\n",
    "\n",
    "---\n",
    "\n",
    "## 🎯 Next Steps and Recommendations\n",
    "\n",
    "### 1. **Experiment with Different Models**\n",
    "- Try different LM providers (Anthropic, Cohere, local models)\n",
    "- Compare performance across model sizes\n",
    "- Test with domain-specific models\n",
    "\n",
    "### 2. **Build Domain-Specific Applications**\n",
    "- Create industry-specific signatures and modules\n",
    "- Implement custom evaluation metrics\n",
    "- Develop specialized tool sets\n",
    "\n",
    "### 3. **Advanced Optimization**\n",
    "- Experiment with different optimization algorithms\n",
    "- Create custom metrics for your use case\n",
    "- Try larger training datasets for better optimization\n",
    "\n",
    "### 4. **Production Deployment**\n",
    "- Set up proper logging and monitoring\n",
    "- Implement caching for expensive operations\n",
    "- Add error handling and fallback strategies\n",
    "\n",
    "### 5. **Community and Learning**\n",
    "- Join the DSPy community discussions\n",
    "- Contribute to open-source development\n",
    "- Share your experiments and learnings\n",
    "\n",
    "---\n",
    "\n",
    "## 🔗 Resources and References\n",
    "\n",
    "### 📚 Documentation and Tutorials\n",
    "- [DSPy Official Documentation](https://dspy-docs.vercel.app/)\n",
    "- [DSPy GitHub Repository](https://github.com/stanfordnlp/dspy)\n",
    "- [Research Paper: DSPy](https://arxiv.org/abs/2310.03714)\n",
    "\n",
    "### 🎓 Learning Materials\n",
    "- [Stanford CS324 Course Materials](https://stanford-cs324.github.io/winter2022/)\n",
    "- [DSPy Examples Repository](https://github.com/stanfordnlp/dspy/tree/main/examples)\n",
    "- [Community Tutorials and Guides](https://github.com/stanfordnlp/dspy/discussions)\n",
    "\n",
    "### 🛠️ Tools and Integrations\n",
    "- [MLflow for Experiment Tracking](https://mlflow.org/)\n",
    "- [ColBERT for Retrieval](https://github.com/stanford-futuredata/ColBERT)\n",
    "- [HuggingFace Integration](https://huggingface.co/docs/transformers/)\n",
    "\n",
    "---\n",
    "\n",
    "## 🎉 Congratulations!\n",
    "\n",
    "You've successfully completed a comprehensive journey through DSPy programming! From basic operations to advanced optimization, you now have the tools to build sophisticated language model applications.\n",
    "\n",
    "**Remember**: DSPy transforms prompt engineering into prompt programming - systematic, optimizable, and maintainable.\n",
    "\n",
    "Happy coding with DSPy! 🚀\n",
    "\n",
    "---\n",
    "\n",
    "*This notebook demonstrates the power of DSPy for building next-generation AI applications. Feel free to experiment, modify, and extend these examples for your own projects!*"
   ]
  }
 ],
 "metadata": {
  "kernelspec": {
   "display_name": "venv (3.12.1)",
   "language": "python",
   "name": "python3"
  },
  "language_info": {
   "codemirror_mode": {
    "name": "ipython",
    "version": 3
   },
   "file_extension": ".py",
   "mimetype": "text/x-python",
   "name": "python",
   "nbconvert_exporter": "python",
   "pygments_lexer": "ipython3",
   "version": "3.12.1"
  }
 },
 "nbformat": 4,
 "nbformat_minor": 5
}
